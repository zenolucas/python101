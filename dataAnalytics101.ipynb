{
 "cells": [
  {
   "cell_type": "code",
   "execution_count": 1,
   "metadata": {
    "collapsed": true
   },
   "outputs": [],
   "source": [
    "#import statistical libraries\n",
    "import math\n",
    "import statistics\n",
    "import numpy as np\n",
    "import pandas as pd"
   ]
  },
  {
   "cell_type": "code",
   "execution_count": 2,
   "outputs": [
    {
     "name": "stdout",
     "output_type": "stream",
     "text": [
      "Variance of sample:\n"
     ]
    },
    {
     "data": {
      "text/plain": "4.916666666666667"
     },
     "execution_count": 2,
     "metadata": {},
     "output_type": "execute_result"
    }
   ],
   "source": [
    "var_sample =[3,5,7,2]\n",
    "var_s = np.var(var_sample, ddof=1)\n",
    "print('Variance of sample:')\n",
    "var_s"
   ],
   "metadata": {
    "collapsed": false
   }
  },
  {
   "cell_type": "code",
   "execution_count": 2,
   "outputs": [
    {
     "data": {
      "text/plain": "4.5"
     },
     "execution_count": 2,
     "metadata": {},
     "output_type": "execute_result"
    }
   ],
   "source": [
    "statistics.mean([4,3,7,6,5,2])"
   ],
   "metadata": {
    "collapsed": false
   }
  },
  {
   "cell_type": "code",
   "execution_count": 14,
   "outputs": [
    {
     "data": {
      "text/plain": "20"
     },
     "execution_count": 14,
     "metadata": {},
     "output_type": "execute_result"
    }
   ],
   "source": [
    "statistics.mode([20,15,12,17,18,15,20,20,15])"
   ],
   "metadata": {
    "collapsed": false
   }
  },
  {
   "cell_type": "code",
   "execution_count": null,
   "outputs": [],
   "source": [
    "statistics.multimode([20,15,12,17,18,15,20,20,15])"
   ],
   "metadata": {
    "collapsed": false
   }
  },
  {
   "cell_type": "code",
   "execution_count": 6,
   "outputs": [
    {
     "data": {
      "text/plain": "Decimal('0.5625')"
     },
     "execution_count": 6,
     "metadata": {},
     "output_type": "execute_result"
    }
   ],
   "source": [
    "from decimal import Decimal as D\n",
    "statistics.mean([D(\"0.5\"), D(\"0.75\"), D(\"0.625\"),D(\"0.375\")])"
   ],
   "metadata": {
    "collapsed": false
   }
  },
  {
   "cell_type": "code",
   "execution_count": 10,
   "outputs": [
    {
     "data": {
      "text/plain": "5"
     },
     "execution_count": 10,
     "metadata": {},
     "output_type": "execute_result"
    }
   ],
   "source": [
    "data= ([7,3,6,5,2,1])\n",
    "statistics.median_high(data)"
   ],
   "metadata": {
    "collapsed": false
   }
  },
  {
   "cell_type": "code",
   "execution_count": 11,
   "outputs": [
    {
     "data": {
      "text/plain": "4"
     },
     "execution_count": 11,
     "metadata": {},
     "output_type": "execute_result"
    }
   ],
   "source": [
    "data= ([4,3,6,5,2,1,7])\n",
    "statistics.median_high(data)"
   ],
   "metadata": {
    "collapsed": false
   }
  },
  {
   "cell_type": "code",
   "execution_count": 3,
   "outputs": [
    {
     "data": {
      "text/plain": "[1.0, 3, 2, 4.5, 8.0]"
     },
     "execution_count": 3,
     "metadata": {},
     "output_type": "execute_result"
    }
   ],
   "source": [
    "x = [1.0, 3, 2, 4.5, 8.0]\n",
    "x_with_nan = [1.0, 3, 2, math.nan, 4.5, 8.0]\n",
    "x"
   ],
   "metadata": {
    "collapsed": false
   }
  },
  {
   "cell_type": "code",
   "execution_count": 15,
   "outputs": [
    {
     "data": {
      "text/plain": "[20, 15]"
     },
     "execution_count": 15,
     "metadata": {},
     "output_type": "execute_result"
    }
   ],
   "source": [
    "statistics.multimode([20,15,12,17,18,15,20,20,15])"
   ],
   "metadata": {
    "collapsed": false
   }
  },
  {
   "cell_type": "code",
   "execution_count": 4,
   "outputs": [
    {
     "data": {
      "text/plain": "3.7"
     },
     "execution_count": 4,
     "metadata": {},
     "output_type": "execute_result"
    }
   ],
   "source": [
    "x = [1.0, 3, 2, 4.5, 8.0]\n",
    "statistics.mean(x)"
   ],
   "metadata": {
    "collapsed": false
   }
  },
  {
   "cell_type": "code",
   "execution_count": 2,
   "outputs": [
    {
     "data": {
      "text/plain": "nan"
     },
     "execution_count": 2,
     "metadata": {},
     "output_type": "execute_result"
    }
   ],
   "source": [
    "x_with_nan = [1.0, 3, 2, math.nan, 4.5, 8.0]\n",
    "statistics.mean(x_with_nan)"
   ],
   "metadata": {
    "collapsed": false
   }
  },
  {
   "cell_type": "code",
   "execution_count": 3,
   "outputs": [
    {
     "data": {
      "text/plain": "[1.0, 3, 2, 4.5, 8.0]"
     },
     "execution_count": 3,
     "metadata": {},
     "output_type": "execute_result"
    }
   ],
   "source": [
    "x = [1.0, 3, 2, 4.5, 8.0]\n",
    "x_with_nan = [1.0, 3, 2, math.nan, 4.5, 8.0]\n",
    "x"
   ],
   "metadata": {
    "collapsed": false
   }
  },
  {
   "cell_type": "code",
   "execution_count": 4,
   "outputs": [
    {
     "data": {
      "text/plain": "nan"
     },
     "execution_count": 4,
     "metadata": {},
     "output_type": "execute_result"
    }
   ],
   "source": [
    "statistics.mean(x_with_nan)"
   ],
   "metadata": {
    "collapsed": false
   }
  },
  {
   "cell_type": "code",
   "execution_count": 5,
   "outputs": [
    {
     "data": {
      "text/plain": "3.7"
     },
     "execution_count": 5,
     "metadata": {},
     "output_type": "execute_result"
    }
   ],
   "source": [
    "np.nanmean(x_with_nan)"
   ],
   "metadata": {
    "collapsed": false
   }
  },
  {
   "cell_type": "code",
   "execution_count": 7,
   "outputs": [
    {
     "data": {
      "text/plain": "array([[1],\n       [2],\n       [3]])"
     },
     "execution_count": 7,
     "metadata": {},
     "output_type": "execute_result"
    }
   ],
   "source": [
    "vector_column = np.array([[1],\n",
    "                          [2],\n",
    "                          [3]])\n",
    "vector_column"
   ],
   "metadata": {
    "collapsed": false
   }
  },
  {
   "cell_type": "code",
   "execution_count": 8,
   "outputs": [
    {
     "name": "stdout",
     "output_type": "stream",
     "text": [
      "Our array is:\n",
      "[1 2 3 4]\n"
     ]
    }
   ],
   "source": [
    "a = np.array([1,2,3,4])\n",
    "print ('Our array is:')\n",
    "print (a)"
   ],
   "metadata": {
    "collapsed": false
   }
  },
  {
   "cell_type": "code",
   "execution_count": 9,
   "outputs": [
    {
     "data": {
      "text/plain": "2.5"
     },
     "execution_count": 9,
     "metadata": {},
     "output_type": "execute_result"
    }
   ],
   "source": [
    "np.mean(a)"
   ],
   "metadata": {
    "collapsed": false
   }
  },
  {
   "cell_type": "code",
   "execution_count": 12,
   "outputs": [
    {
     "data": {
      "text/plain": "array([[1, 2],\n       [3, 4]])"
     },
     "execution_count": 12,
     "metadata": {},
     "output_type": "execute_result"
    }
   ],
   "source": [
    "a = np.array([[1,2],\n",
    "              [3,4]])\n",
    "a"
   ],
   "metadata": {
    "collapsed": false
   }
  },
  {
   "cell_type": "code",
   "execution_count": 13,
   "outputs": [
    {
     "data": {
      "text/plain": "2.5"
     },
     "execution_count": 13,
     "metadata": {},
     "output_type": "execute_result"
    }
   ],
   "source": [
    "np.mean(a)"
   ],
   "metadata": {
    "collapsed": false
   }
  },
  {
   "cell_type": "code",
   "execution_count": 14,
   "outputs": [
    {
     "data": {
      "text/plain": "array([2., 3.])"
     },
     "execution_count": 14,
     "metadata": {},
     "output_type": "execute_result"
    }
   ],
   "source": [
    "np.mean(a, axis=0)"
   ],
   "metadata": {
    "collapsed": false
   }
  },
  {
   "cell_type": "code",
   "execution_count": 15,
   "outputs": [
    {
     "data": {
      "text/plain": "array([1.5, 3.5])"
     },
     "execution_count": 15,
     "metadata": {},
     "output_type": "execute_result"
    }
   ],
   "source": [
    "np.mean(a, axis=1)"
   ],
   "metadata": {
    "collapsed": false
   }
  },
  {
   "cell_type": "code",
   "execution_count": 16,
   "outputs": [
    {
     "data": {
      "text/plain": "3.0"
     },
     "execution_count": 16,
     "metadata": {},
     "output_type": "execute_result"
    }
   ],
   "source": [
    "a = np.array([1,2,3,4,5])\n",
    "np.median(a)\n"
   ],
   "metadata": {
    "collapsed": false
   }
  },
  {
   "cell_type": "code",
   "execution_count": 17,
   "outputs": [
    {
     "data": {
      "text/plain": "2.5"
     },
     "execution_count": 17,
     "metadata": {},
     "output_type": "execute_result"
    }
   ],
   "source": [
    "a = np.array([1,2,3,4])\n",
    "np.median(a)"
   ],
   "metadata": {
    "collapsed": false
   }
  },
  {
   "cell_type": "code",
   "execution_count": 18,
   "outputs": [
    {
     "data": {
      "text/plain": "3.5"
     },
     "execution_count": 18,
     "metadata": {},
     "output_type": "execute_result"
    }
   ],
   "source": [
    "a=np.array([[10,  7,  4],\n",
    "            [ 3,  2,  1]])\n",
    "np.median(a)"
   ],
   "metadata": {
    "collapsed": false
   }
  },
  {
   "cell_type": "code",
   "execution_count": 20,
   "outputs": [
    {
     "name": "stderr",
     "output_type": "stream",
     "text": [
      "/tmp/ipykernel_235/2960305741.py:4: FutureWarning: Unlike other reduction functions (e.g. `skew`, `kurtosis`), the default behavior of `mode` typically preserves the axis it acts along. In SciPy 1.11.0, this behavior will change: the default value of `keepdims` will become False, the `axis` over which the statistic is taken will be eliminated, and the value None will no longer be accepted. Set `keepdims` to True or False to avoid this warning.\n",
      "  stats.mode(a)\n"
     ]
    },
    {
     "data": {
      "text/plain": "ModeResult(mode=array([20]), count=array([3]))"
     },
     "execution_count": 20,
     "metadata": {},
     "output_type": "execute_result"
    }
   ],
   "source": [
    "from scipy import stats\n",
    "\n",
    "a = ([20,15,12,17,18,15,20,20])\n",
    "stats.mode(a)"
   ],
   "metadata": {
    "collapsed": false
   }
  },
  {
   "cell_type": "markdown",
   "source": [],
   "metadata": {
    "collapsed": false
   }
  },
  {
   "cell_type": "code",
   "execution_count": 24,
   "outputs": [
    {
     "data": {
      "text/plain": "3.8"
     },
     "execution_count": 24,
     "metadata": {},
     "output_type": "execute_result"
    }
   ],
   "source": [
    "# Computing the weighted mean\n",
    "a=[5,2,7,2]\n",
    "b=[1,2,3,4]\n",
    "a,b = np.array(a), np.array(b)\n",
    "wmean = np.average(a, weights=b)\n",
    "wmean"
   ],
   "metadata": {
    "collapsed": false
   }
  },
  {
   "cell_type": "code",
   "execution_count": 25,
   "outputs": [
    {
     "data": {
      "text/plain": "6.0"
     },
     "execution_count": 25,
     "metadata": {},
     "output_type": "execute_result"
    }
   ],
   "source": [
    "wmean = np.average(c, weights=b)\n",
    "wmean"
   ],
   "metadata": {
    "collapsed": false
   }
  },
  {
   "cell_type": "code",
   "execution_count": 3,
   "outputs": [
    {
     "data": {
      "text/plain": "array([10,  5,  2,  6,  7,  8,  4])"
     },
     "execution_count": 3,
     "metadata": {},
     "output_type": "execute_result"
    }
   ],
   "source": [
    "data = pd.Series([10,5,2,6,7,8,4])\n",
    "data.values"
   ],
   "metadata": {
    "collapsed": false
   }
  },
  {
   "cell_type": "code",
   "execution_count": 5,
   "outputs": [
    {
     "data": {
      "text/plain": "7"
     },
     "execution_count": 5,
     "metadata": {},
     "output_type": "execute_result"
    }
   ],
   "source": [
    "data[4]"
   ],
   "metadata": {
    "collapsed": false
   }
  },
  {
   "cell_type": "code",
   "execution_count": 8,
   "outputs": [
    {
     "data": {
      "text/plain": "w     9.25\nx    10.50\ny     8.75\nz     1.30\ndtype: float64"
     },
     "execution_count": 8,
     "metadata": {},
     "output_type": "execute_result"
    }
   ],
   "source": [
    "data = pd.Series([9.25, 10.5, 8.75, 1.3],\n",
    "                 index=['w', 'x', 'y', 'z'])\n",
    "data"
   ],
   "metadata": {
    "collapsed": false
   }
  },
  {
   "cell_type": "code",
   "execution_count": 9,
   "outputs": [
    {
     "data": {
      "text/plain": "100    5\n200    5\n300    5\ndtype: int64"
     },
     "execution_count": 9,
     "metadata": {},
     "output_type": "execute_result"
    }
   ],
   "source": [
    "pd.Series(5, index=[100, 200, 300])"
   ],
   "metadata": {
    "collapsed": false
   }
  },
  {
   "cell_type": "code",
   "execution_count": 10,
   "outputs": [
    {
     "data": {
      "text/plain": "2.5"
     },
     "execution_count": 10,
     "metadata": {},
     "output_type": "execute_result"
    }
   ],
   "source": [
    "m = pd.Series([1,2,3,4])\n",
    "statistics.mean(m)"
   ],
   "metadata": {
    "collapsed": false
   }
  },
  {
   "cell_type": "code",
   "execution_count": 11,
   "outputs": [
    {
     "data": {
      "text/plain": "2    a\n1    b\n3    c\ndtype: object"
     },
     "execution_count": 11,
     "metadata": {},
     "output_type": "execute_result"
    }
   ],
   "source": [
    "pd.Series({2:'a', 1:'b', 3:'c'})"
   ],
   "metadata": {
    "collapsed": false
   }
  },
  {
   "cell_type": "code",
   "execution_count": 14,
   "outputs": [
    {
     "data": {
      "text/plain": "Cebu       7800\nManila    10000\nDavao      8000\nBaguio     6500\nCavite     2000\ndtype: int64"
     },
     "execution_count": 14,
     "metadata": {},
     "output_type": "execute_result"
    }
   ],
   "source": [
    "covid_dict = {\n",
    "    'Cebu':7800,\n",
    "    'Manila':10000,\n",
    "    'Davao': 8000,\n",
    "    'Baguio': 6500,\n",
    "    'Cavite': 2000\n",
    "}\n",
    "covid = pd.Series(covid_dict)\n",
    "covid"
   ],
   "metadata": {
    "collapsed": false
   }
  },
  {
   "cell_type": "code",
   "execution_count": 16,
   "outputs": [
    {
     "data": {
      "text/plain": "        number of cases\nCebu               7800\nManila            10000\nDavao              8000\nBaguio             6500\nCavite             2000",
      "text/html": "<div>\n<style scoped>\n    .dataframe tbody tr th:only-of-type {\n        vertical-align: middle;\n    }\n\n    .dataframe tbody tr th {\n        vertical-align: top;\n    }\n\n    .dataframe thead th {\n        text-align: right;\n    }\n</style>\n<table border=\"1\" class=\"dataframe\">\n  <thead>\n    <tr style=\"text-align: right;\">\n      <th></th>\n      <th>number of cases</th>\n    </tr>\n  </thead>\n  <tbody>\n    <tr>\n      <th>Cebu</th>\n      <td>7800</td>\n    </tr>\n    <tr>\n      <th>Manila</th>\n      <td>10000</td>\n    </tr>\n    <tr>\n      <th>Davao</th>\n      <td>8000</td>\n    </tr>\n    <tr>\n      <th>Baguio</th>\n      <td>6500</td>\n    </tr>\n    <tr>\n      <th>Cavite</th>\n      <td>2000</td>\n    </tr>\n  </tbody>\n</table>\n</div>"
     },
     "execution_count": 16,
     "metadata": {},
     "output_type": "execute_result"
    }
   ],
   "source": [
    "covid_dict = pd.DataFrame({'number of cases': covid })\n",
    "covid_dict"
   ],
   "metadata": {
    "collapsed": false
   }
  },
  {
   "cell_type": "code",
   "execution_count": 34,
   "outputs": [
    {
     "data": {
      "text/plain": "   A   B  C   D\n0  1  15  2  14\n1  2  12  6  23\n2  3  54  7  17\n3  4  13  3  21\n4  5  12  8  16",
      "text/html": "<div>\n<style scoped>\n    .dataframe tbody tr th:only-of-type {\n        vertical-align: middle;\n    }\n\n    .dataframe tbody tr th {\n        vertical-align: top;\n    }\n\n    .dataframe thead th {\n        text-align: right;\n    }\n</style>\n<table border=\"1\" class=\"dataframe\">\n  <thead>\n    <tr style=\"text-align: right;\">\n      <th></th>\n      <th>A</th>\n      <th>B</th>\n      <th>C</th>\n      <th>D</th>\n    </tr>\n  </thead>\n  <tbody>\n    <tr>\n      <th>0</th>\n      <td>1</td>\n      <td>15</td>\n      <td>2</td>\n      <td>14</td>\n    </tr>\n    <tr>\n      <th>1</th>\n      <td>2</td>\n      <td>12</td>\n      <td>6</td>\n      <td>23</td>\n    </tr>\n    <tr>\n      <th>2</th>\n      <td>3</td>\n      <td>54</td>\n      <td>7</td>\n      <td>17</td>\n    </tr>\n    <tr>\n      <th>3</th>\n      <td>4</td>\n      <td>13</td>\n      <td>3</td>\n      <td>21</td>\n    </tr>\n    <tr>\n      <th>4</th>\n      <td>5</td>\n      <td>12</td>\n      <td>8</td>\n      <td>16</td>\n    </tr>\n  </tbody>\n</table>\n</div>"
     },
     "execution_count": 34,
     "metadata": {},
     "output_type": "execute_result"
    }
   ],
   "source": [
    "# Creating the dataframe\n",
    "df = pd.DataFrame({\"A\":[1, 2, 3, 4, 5],\n",
    "                   \"B\":[15, 12, 54, 13, 12],\n",
    "                   \"C\":[2, 6, 7, 3, 8],\n",
    "                   \"D\":[14, 23, 17, 21, 16]})\n",
    "\n",
    "# Print the dataframe\n",
    "df"
   ],
   "metadata": {
    "collapsed": false
   }
  },
  {
   "cell_type": "code",
   "execution_count": 20,
   "outputs": [
    {
     "data": {
      "text/plain": "A     3.0\nB    21.2\nC     5.2\nD    18.2\ndtype: float64"
     },
     "execution_count": 20,
     "metadata": {},
     "output_type": "execute_result"
    }
   ],
   "source": [
    "df.mean()"
   ],
   "metadata": {
    "collapsed": false
   }
  },
  {
   "cell_type": "code",
   "execution_count": 26,
   "outputs": [
    {
     "data": {
      "text/plain": "0     8.00\n1    10.75\n2    20.25\n3    10.25\n4    10.25\ndtype: float64"
     },
     "execution_count": 26,
     "metadata": {},
     "output_type": "execute_result"
    }
   ],
   "source": [
    "#Computes the mean along rows\n",
    "df.mean(axis=0)\n",
    "#Computes the mean along columns\n",
    "df.mean(axis=1)\n"
   ],
   "metadata": {
    "collapsed": false
   }
  },
  {
   "cell_type": "code",
   "execution_count": 27,
   "outputs": [
    {
     "data": {
      "text/plain": "     A   B    C     D\n0  1.0  15  2.0   NaN\n1  2.0  12  6.0  23.0\n2  3.0  54  7.0  17.0\n3  NaN  13  NaN  21.0\n4  5.0  12  8.0  16.0",
      "text/html": "<div>\n<style scoped>\n    .dataframe tbody tr th:only-of-type {\n        vertical-align: middle;\n    }\n\n    .dataframe tbody tr th {\n        vertical-align: top;\n    }\n\n    .dataframe thead th {\n        text-align: right;\n    }\n</style>\n<table border=\"1\" class=\"dataframe\">\n  <thead>\n    <tr style=\"text-align: right;\">\n      <th></th>\n      <th>A</th>\n      <th>B</th>\n      <th>C</th>\n      <th>D</th>\n    </tr>\n  </thead>\n  <tbody>\n    <tr>\n      <th>0</th>\n      <td>1.0</td>\n      <td>15</td>\n      <td>2.0</td>\n      <td>NaN</td>\n    </tr>\n    <tr>\n      <th>1</th>\n      <td>2.0</td>\n      <td>12</td>\n      <td>6.0</td>\n      <td>23.0</td>\n    </tr>\n    <tr>\n      <th>2</th>\n      <td>3.0</td>\n      <td>54</td>\n      <td>7.0</td>\n      <td>17.0</td>\n    </tr>\n    <tr>\n      <th>3</th>\n      <td>NaN</td>\n      <td>13</td>\n      <td>NaN</td>\n      <td>21.0</td>\n    </tr>\n    <tr>\n      <th>4</th>\n      <td>5.0</td>\n      <td>12</td>\n      <td>8.0</td>\n      <td>16.0</td>\n    </tr>\n  </tbody>\n</table>\n</div>"
     },
     "execution_count": 27,
     "metadata": {},
     "output_type": "execute_result"
    }
   ],
   "source": [
    "# Creating the dataframe\n",
    "df = pd.DataFrame({\"A\":[1, 2, 3, None, 5],\n",
    "                   \"B\":[15, 12, 54, 13, 12],\n",
    "                   \"C\":[2, 6, 7, None, 8],\n",
    "                   \"D\":[None, 23, 17, 21, 16]})\n",
    "# Print the dataframe\n",
    "df"
   ],
   "metadata": {
    "collapsed": false
   }
  },
  {
   "cell_type": "code",
   "execution_count": 33,
   "outputs": [
    {
     "data": {
      "text/plain": "A     2.5\nB    13.0\nC     6.5\nD    19.0\ndtype: float64"
     },
     "execution_count": 33,
     "metadata": {},
     "output_type": "execute_result"
    }
   ],
   "source": [
    "#Computing the median using pandas\n",
    "#Median along rows\n",
    "df.median(axis = 0)"
   ],
   "metadata": {
    "collapsed": false
   }
  },
  {
   "cell_type": "code",
   "execution_count": 37,
   "outputs": [
    {
     "data": {
      "text/plain": "     A   B    C     D\n0  1.0  15  2.0   NaN\n1  2.0  12  6.0  23.0\n2  3.0  54  7.0  17.0\n3  NaN  13  NaN  21.0\n4  5.0  12  8.0  16.0",
      "text/html": "<div>\n<style scoped>\n    .dataframe tbody tr th:only-of-type {\n        vertical-align: middle;\n    }\n\n    .dataframe tbody tr th {\n        vertical-align: top;\n    }\n\n    .dataframe thead th {\n        text-align: right;\n    }\n</style>\n<table border=\"1\" class=\"dataframe\">\n  <thead>\n    <tr style=\"text-align: right;\">\n      <th></th>\n      <th>A</th>\n      <th>B</th>\n      <th>C</th>\n      <th>D</th>\n    </tr>\n  </thead>\n  <tbody>\n    <tr>\n      <th>0</th>\n      <td>1.0</td>\n      <td>15</td>\n      <td>2.0</td>\n      <td>NaN</td>\n    </tr>\n    <tr>\n      <th>1</th>\n      <td>2.0</td>\n      <td>12</td>\n      <td>6.0</td>\n      <td>23.0</td>\n    </tr>\n    <tr>\n      <th>2</th>\n      <td>3.0</td>\n      <td>54</td>\n      <td>7.0</td>\n      <td>17.0</td>\n    </tr>\n    <tr>\n      <th>3</th>\n      <td>NaN</td>\n      <td>13</td>\n      <td>NaN</td>\n      <td>21.0</td>\n    </tr>\n    <tr>\n      <th>4</th>\n      <td>5.0</td>\n      <td>12</td>\n      <td>8.0</td>\n      <td>16.0</td>\n    </tr>\n  </tbody>\n</table>\n</div>"
     },
     "execution_count": 37,
     "metadata": {},
     "output_type": "execute_result"
    }
   ],
   "source": [
    "# Creating the dataframe\n",
    "df = pd.DataFrame({\"A\":[1, 2, 3, None, 5],\n",
    "                   \"B\":[15, 12, 54, 13, 12],\n",
    "                   \"C\":[2, 6, 7, None, 8],\n",
    "                   \"D\":[None, 23, 17, 21, 16]})\n",
    "\n",
    "# Print the dataframe\n",
    "df"
   ],
   "metadata": {
    "collapsed": false
   }
  },
  {
   "cell_type": "code",
   "execution_count": 42,
   "outputs": [
    {
     "data": {
      "text/plain": "A     2.5\nB    13.0\nC     6.5\nD    19.0\ndtype: float64"
     },
     "execution_count": 42,
     "metadata": {},
     "output_type": "execute_result"
    }
   ],
   "source": [
    "df.median(axis = 0, skipna = True)"
   ],
   "metadata": {
    "collapsed": false
   }
  },
  {
   "cell_type": "code",
   "execution_count": 44,
   "outputs": [
    {
     "data": {
      "text/plain": "             NAME  AGE  COURSE  YEAR\n0        John Doe   20    BSIT     2\n1       Juan Cruz   21    BSCS     3\n2  Juan dela Cruz   20    BSCS     2\n3  Filipinas Cruz   18  BSMKTG     1\n4      Jane Perez   24    BSCE     4\n5      Peter Grey   21    BSME     3\n6     Joy de Leon   22    BSCS     2\n7       Jan Perez   21    BSCS     3\n8         Cris Uy   20    BSIT     2\n9      Ben Santoa   22    BSIT     1",
      "text/html": "<div>\n<style scoped>\n    .dataframe tbody tr th:only-of-type {\n        vertical-align: middle;\n    }\n\n    .dataframe tbody tr th {\n        vertical-align: top;\n    }\n\n    .dataframe thead th {\n        text-align: right;\n    }\n</style>\n<table border=\"1\" class=\"dataframe\">\n  <thead>\n    <tr style=\"text-align: right;\">\n      <th></th>\n      <th>NAME</th>\n      <th>AGE</th>\n      <th>COURSE</th>\n      <th>YEAR</th>\n    </tr>\n  </thead>\n  <tbody>\n    <tr>\n      <th>0</th>\n      <td>John Doe</td>\n      <td>20</td>\n      <td>BSIT</td>\n      <td>2</td>\n    </tr>\n    <tr>\n      <th>1</th>\n      <td>Juan Cruz</td>\n      <td>21</td>\n      <td>BSCS</td>\n      <td>3</td>\n    </tr>\n    <tr>\n      <th>2</th>\n      <td>Juan dela Cruz</td>\n      <td>20</td>\n      <td>BSCS</td>\n      <td>2</td>\n    </tr>\n    <tr>\n      <th>3</th>\n      <td>Filipinas Cruz</td>\n      <td>18</td>\n      <td>BSMKTG</td>\n      <td>1</td>\n    </tr>\n    <tr>\n      <th>4</th>\n      <td>Jane Perez</td>\n      <td>24</td>\n      <td>BSCE</td>\n      <td>4</td>\n    </tr>\n    <tr>\n      <th>5</th>\n      <td>Peter Grey</td>\n      <td>21</td>\n      <td>BSME</td>\n      <td>3</td>\n    </tr>\n    <tr>\n      <th>6</th>\n      <td>Joy de Leon</td>\n      <td>22</td>\n      <td>BSCS</td>\n      <td>2</td>\n    </tr>\n    <tr>\n      <th>7</th>\n      <td>Jan Perez</td>\n      <td>21</td>\n      <td>BSCS</td>\n      <td>3</td>\n    </tr>\n    <tr>\n      <th>8</th>\n      <td>Cris Uy</td>\n      <td>20</td>\n      <td>BSIT</td>\n      <td>2</td>\n    </tr>\n    <tr>\n      <th>9</th>\n      <td>Ben Santoa</td>\n      <td>22</td>\n      <td>BSIT</td>\n      <td>1</td>\n    </tr>\n  </tbody>\n</table>\n</div>"
     },
     "execution_count": 44,
     "metadata": {},
     "output_type": "execute_result"
    }
   ],
   "source": [
    "pd.read_csv(\"/home/zenolucas/Desktop/SCHOOLING/dataAnalytics/SAMPLE.csv\", skiprows=[2,4])"
   ],
   "metadata": {
    "collapsed": false
   }
  },
  {
   "cell_type": "code",
   "execution_count": 45,
   "outputs": [
    {
     "data": {
      "text/plain": "             NAME  AGE COURSE  YEAR\n0        John Doe   20   BSIT     2\n1  Juan dela Cruz   20   BSCS     2\n2      Jane Perez   24   BSCE     4\n3      Peter Grey   21   BSME     3\n4     Joy de Leon   22   BSCS     2\n5       Jan Perez   21   BSCS     3\n6         Cris Uy   20   BSIT     2\n7      Ben Santoa   22   BSIT     1",
      "text/html": "<div>\n<style scoped>\n    .dataframe tbody tr th:only-of-type {\n        vertical-align: middle;\n    }\n\n    .dataframe tbody tr th {\n        vertical-align: top;\n    }\n\n    .dataframe thead th {\n        text-align: right;\n    }\n</style>\n<table border=\"1\" class=\"dataframe\">\n  <thead>\n    <tr style=\"text-align: right;\">\n      <th></th>\n      <th>NAME</th>\n      <th>AGE</th>\n      <th>COURSE</th>\n      <th>YEAR</th>\n    </tr>\n  </thead>\n  <tbody>\n    <tr>\n      <th>0</th>\n      <td>John Doe</td>\n      <td>20</td>\n      <td>BSIT</td>\n      <td>2</td>\n    </tr>\n    <tr>\n      <th>1</th>\n      <td>Juan dela Cruz</td>\n      <td>20</td>\n      <td>BSCS</td>\n      <td>2</td>\n    </tr>\n    <tr>\n      <th>2</th>\n      <td>Jane Perez</td>\n      <td>24</td>\n      <td>BSCE</td>\n      <td>4</td>\n    </tr>\n    <tr>\n      <th>3</th>\n      <td>Peter Grey</td>\n      <td>21</td>\n      <td>BSME</td>\n      <td>3</td>\n    </tr>\n    <tr>\n      <th>4</th>\n      <td>Joy de Leon</td>\n      <td>22</td>\n      <td>BSCS</td>\n      <td>2</td>\n    </tr>\n    <tr>\n      <th>5</th>\n      <td>Jan Perez</td>\n      <td>21</td>\n      <td>BSCS</td>\n      <td>3</td>\n    </tr>\n    <tr>\n      <th>6</th>\n      <td>Cris Uy</td>\n      <td>20</td>\n      <td>BSIT</td>\n      <td>2</td>\n    </tr>\n    <tr>\n      <th>7</th>\n      <td>Ben Santoa</td>\n      <td>22</td>\n      <td>BSIT</td>\n      <td>1</td>\n    </tr>\n  </tbody>\n</table>\n</div>"
     },
     "execution_count": 45,
     "metadata": {},
     "output_type": "execute_result"
    }
   ],
   "source": [
    "pd.read_csv(\"/home/zenolucas/Desktop/SCHOOLING/dataAnalytics/SAMPLE.csv\", skiprows=[2,4])"
   ],
   "metadata": {
    "collapsed": false
   }
  },
  {
   "cell_type": "code",
   "execution_count": 48,
   "outputs": [
    {
     "data": {
      "text/plain": "0    20\n1    21\nName: AGE, dtype: int64"
     },
     "execution_count": 48,
     "metadata": {},
     "output_type": "execute_result"
    }
   ],
   "source": [
    "# reading a csv file\n",
    "data = pd.read_csv(\"/home/zenolucas/Desktop/SCHOOLING/dataAnalytics/SAMPLE.csv\")\n",
    "data['AGE'].mode()"
   ],
   "metadata": {
    "collapsed": false
   }
  },
  {
   "cell_type": "code",
   "execution_count": 50,
   "outputs": [
    {
     "name": "stdout",
     "output_type": "stream",
     "text": [
      "   a  b\n",
      "0  1  2\n",
      "1  3  4\n"
     ]
    }
   ],
   "source": [
    "df = pd.DataFrame([\n",
    "    [1, 2],\n",
    "    [3, 4]],\n",
    "    columns = [\"a\", \"b\"])\n",
    "print(df)"
   ],
   "metadata": {
    "collapsed": false
   }
  },
  {
   "cell_type": "code",
   "execution_count": 51,
   "outputs": [
    {
     "name": "stdout",
     "output_type": "stream",
     "text": [
      "3.0\n"
     ]
    }
   ],
   "source": [
    "#find mean of column \"b\"\n",
    "df_mean = df[\"b\"].mean()\n",
    "print(df_mean)"
   ],
   "metadata": {
    "collapsed": false
   }
  },
  {
   "cell_type": "code",
   "execution_count": 53,
   "outputs": [
    {
     "name": "stdout",
     "output_type": "stream",
     "text": [
      "Variance:\n"
     ]
    },
    {
     "data": {
      "text/plain": "9.5"
     },
     "execution_count": 53,
     "metadata": {},
     "output_type": "execute_result"
    }
   ],
   "source": [
    "#Arbitrary data\n",
    "v = [10,14,16,11,12,18]\n",
    "var_x = statistics.variance(v)\n",
    "print('Variance:')\n",
    "var_x"
   ],
   "metadata": {
    "collapsed": false
   }
  },
  {
   "cell_type": "code",
   "execution_count": 3,
   "outputs": [
    {
     "data": {
      "text/plain": "[10, 14, 16, 11, nan, 12, 18]"
     },
     "execution_count": 3,
     "metadata": {},
     "output_type": "execute_result"
    }
   ],
   "source": [
    "v_nan=[10,14,16,11,math.nan,12,18]\n",
    "v_nan"
   ],
   "metadata": {
    "collapsed": false
   }
  },
  {
   "cell_type": "code",
   "execution_count": 55,
   "outputs": [
    {
     "ename": "ValueError",
     "evalue": "cannot convert NaN to integer ratio",
     "output_type": "error",
     "traceback": [
      "\u001B[0;31m---------------------------------------------------------------------------\u001B[0m",
      "\u001B[0;31mValueError\u001B[0m                                Traceback (most recent call last)",
      "Cell \u001B[0;32mIn[55], line 1\u001B[0m\n\u001B[0;32m----> 1\u001B[0m var_nan \u001B[38;5;241m=\u001B[39m \u001B[43mstatistics\u001B[49m\u001B[38;5;241;43m.\u001B[39;49m\u001B[43mvariance\u001B[49m\u001B[43m(\u001B[49m\u001B[43mv_nan\u001B[49m\u001B[43m)\u001B[49m\n\u001B[1;32m      2\u001B[0m \u001B[38;5;28mprint\u001B[39m(\u001B[38;5;124m'\u001B[39m\u001B[38;5;124mVariance with Nan:\u001B[39m\u001B[38;5;124m'\u001B[39m)\n\u001B[1;32m      3\u001B[0m var_nan\n",
      "File \u001B[0;32m~/anaconda3/envs/pythonProject/lib/python3.10/statistics.py:768\u001B[0m, in \u001B[0;36mvariance\u001B[0;34m(data, xbar)\u001B[0m\n\u001B[1;32m    766\u001B[0m \u001B[38;5;28;01mif\u001B[39;00m n \u001B[38;5;241m<\u001B[39m \u001B[38;5;241m2\u001B[39m:\n\u001B[1;32m    767\u001B[0m     \u001B[38;5;28;01mraise\u001B[39;00m StatisticsError(\u001B[38;5;124m'\u001B[39m\u001B[38;5;124mvariance requires at least two data points\u001B[39m\u001B[38;5;124m'\u001B[39m)\n\u001B[0;32m--> 768\u001B[0m T, ss \u001B[38;5;241m=\u001B[39m \u001B[43m_ss\u001B[49m\u001B[43m(\u001B[49m\u001B[43mdata\u001B[49m\u001B[43m,\u001B[49m\u001B[43m \u001B[49m\u001B[43mxbar\u001B[49m\u001B[43m)\u001B[49m\n\u001B[1;32m    769\u001B[0m \u001B[38;5;28;01mreturn\u001B[39;00m _convert(ss \u001B[38;5;241m/\u001B[39m (n \u001B[38;5;241m-\u001B[39m \u001B[38;5;241m1\u001B[39m), T)\n",
      "File \u001B[0;32m~/anaconda3/envs/pythonProject/lib/python3.10/statistics.py:709\u001B[0m, in \u001B[0;36m_ss\u001B[0;34m(data, c)\u001B[0m\n\u001B[1;32m    707\u001B[0m     \u001B[38;5;28;01mreturn\u001B[39;00m (T, total)\n\u001B[1;32m    708\u001B[0m T, total, count \u001B[38;5;241m=\u001B[39m _sum(data)\n\u001B[0;32m--> 709\u001B[0m mean_n, mean_d \u001B[38;5;241m=\u001B[39m \u001B[43m(\u001B[49m\u001B[43mtotal\u001B[49m\u001B[43m \u001B[49m\u001B[38;5;241;43m/\u001B[39;49m\u001B[43m \u001B[49m\u001B[43mcount\u001B[49m\u001B[43m)\u001B[49m\u001B[38;5;241;43m.\u001B[39;49m\u001B[43mas_integer_ratio\u001B[49m\u001B[43m(\u001B[49m\u001B[43m)\u001B[49m\n\u001B[1;32m    710\u001B[0m partials \u001B[38;5;241m=\u001B[39m Counter()\n\u001B[1;32m    711\u001B[0m \u001B[38;5;28;01mfor\u001B[39;00m n, d \u001B[38;5;129;01min\u001B[39;00m \u001B[38;5;28mmap\u001B[39m(_exact_ratio, data):\n",
      "\u001B[0;31mValueError\u001B[0m: cannot convert NaN to integer ratio"
     ]
    }
   ],
   "source": [
    "var_nan = statistics.variance(v_nan)\n",
    "print('Variance with Nan:')\n",
    "var_nan"
   ],
   "metadata": {
    "collapsed": false
   }
  },
  {
   "cell_type": "code",
   "execution_count": 4,
   "outputs": [
    {
     "data": {
      "text/plain": "nan"
     },
     "execution_count": 4,
     "metadata": {},
     "output_type": "execute_result"
    }
   ],
   "source": [
    "np.var(v_nan, ddof=1)"
   ],
   "metadata": {
    "collapsed": false
   }
  },
  {
   "cell_type": "code",
   "execution_count": 5,
   "outputs": [
    {
     "data": {
      "text/plain": "9.5"
     },
     "execution_count": 5,
     "metadata": {},
     "output_type": "execute_result"
    }
   ],
   "source": [
    "np.nanvar(v_nan, ddof=1)"
   ],
   "metadata": {
    "collapsed": false
   }
  },
  {
   "cell_type": "code",
   "execution_count": 6,
   "outputs": [
    {
     "name": "stdout",
     "output_type": "stream",
     "text": [
      "Variance of population:\n"
     ]
    },
    {
     "data": {
      "text/plain": "8.25"
     },
     "execution_count": 6,
     "metadata": {},
     "output_type": "execute_result"
    }
   ],
   "source": [
    "x=[1,2,3,4,5,6,7,8,9,10]\n",
    "var_x = np.var(x, ddof=0)\n",
    "print('Variance of population:')\n",
    "var_x"
   ],
   "metadata": {
    "collapsed": false
   }
  },
  {
   "cell_type": "code",
   "execution_count": 7,
   "outputs": [
    {
     "name": "stdout",
     "output_type": "stream",
     "text": [
      "Standard deviation:\n"
     ]
    },
    {
     "data": {
      "text/plain": "3.0276503540974917"
     },
     "execution_count": 7,
     "metadata": {},
     "output_type": "execute_result"
    }
   ],
   "source": [
    "sd = statistics.stdev(x)\n",
    "print('Standard deviation:')\n",
    "sd"
   ],
   "metadata": {
    "collapsed": false
   }
  },
  {
   "cell_type": "code",
   "execution_count": 10,
   "outputs": [
    {
     "data": {
      "text/plain": "2.073644135332772"
     },
     "execution_count": 10,
     "metadata": {},
     "output_type": "execute_result"
    }
   ],
   "source": [
    "y=[3,7,4,5,8]\n",
    "np.std(y, ddof=1)"
   ],
   "metadata": {
    "collapsed": false
   }
  },
  {
   "cell_type": "code",
   "execution_count": 11,
   "outputs": [
    {
     "data": {
      "text/plain": "nan"
     },
     "execution_count": 11,
     "metadata": {},
     "output_type": "execute_result"
    }
   ],
   "source": [
    "y_nan=[3,7,4,math.nan,5,8]\n",
    "np.std(y_nan, ddof=1)"
   ],
   "metadata": {
    "collapsed": false
   }
  },
  {
   "cell_type": "code",
   "execution_count": 12,
   "outputs": [
    {
     "data": {
      "text/plain": "2.6457513110645907"
     },
     "execution_count": 12,
     "metadata": {},
     "output_type": "execute_result"
    }
   ],
   "source": [
    "data = pd.Series([10,5,2,6,7,8,4])\n",
    "data.std(ddof=1)"
   ],
   "metadata": {
    "collapsed": false
   }
  },
  {
   "cell_type": "code",
   "execution_count": 13,
   "outputs": [
    {
     "name": "stdout",
     "output_type": "stream",
     "text": [
      "Standard deviation:\n"
     ]
    },
    {
     "data": {
      "text/plain": "5.212165257037297"
     },
     "execution_count": 13,
     "metadata": {},
     "output_type": "execute_result"
    }
   ],
   "source": [
    "x=[5,7,9,3,7,2,8,1,9,11,13,21]\n",
    "sd = statistics.pstdev(x)\n",
    "print('Standard deviation:')\n",
    "sd"
   ],
   "metadata": {
    "collapsed": false
   }
  },
  {
   "cell_type": "code",
   "execution_count": 14,
   "outputs": [
    {
     "name": "stdout",
     "output_type": "stream",
     "text": [
      "20\n"
     ]
    }
   ],
   "source": [
    "m=np.ptp(x)\n",
    "print (m)"
   ],
   "metadata": {
    "collapsed": false
   }
  },
  {
   "cell_type": "code",
   "execution_count": 15,
   "outputs": [
    {
     "data": {
      "text/plain": "array([ 97.5, 109. , 123.5])"
     },
     "execution_count": 15,
     "metadata": {},
     "output_type": "execute_result"
    }
   ],
   "source": [
    "a = [102, 128, 131, 98, 140, 93, 115, 109, 89, 119, 97]\n",
    "np.percentile(a, [25, 50, 75])"
   ],
   "metadata": {
    "collapsed": false
   }
  },
  {
   "cell_type": "code",
   "execution_count": 16,
   "outputs": [
    {
     "data": {
      "text/plain": "3.0"
     },
     "execution_count": 16,
     "metadata": {},
     "output_type": "execute_result"
    }
   ],
   "source": [
    "# interquartile range\n",
    "quartiles = np.quantile(y, [0.25, 0.75])\n",
    "quartiles[1] - quartiles[0]"
   ],
   "metadata": {
    "collapsed": false
   }
  },
  {
   "cell_type": "code",
   "execution_count": 21,
   "outputs": [
    {
     "data": {
      "text/plain": "             name  quiz 1  quiz 2  EXAM\n0  JUAN DELA CRUZ      25      18    89\n1        John Doe      32      25    67\n2       Juan Cruz      45      20    98\n3  Juan dela Cruz      30      12    56\n4  Filipinas Crux      20      15    88\n5      Jane Perez      12      13    45\n6      Peter Grey      45      14    57",
      "text/html": "<div>\n<style scoped>\n    .dataframe tbody tr th:only-of-type {\n        vertical-align: middle;\n    }\n\n    .dataframe tbody tr th {\n        vertical-align: top;\n    }\n\n    .dataframe thead th {\n        text-align: right;\n    }\n</style>\n<table border=\"1\" class=\"dataframe\">\n  <thead>\n    <tr style=\"text-align: right;\">\n      <th></th>\n      <th>name</th>\n      <th>quiz 1</th>\n      <th>quiz 2</th>\n      <th>EXAM</th>\n    </tr>\n  </thead>\n  <tbody>\n    <tr>\n      <th>0</th>\n      <td>JUAN DELA CRUZ</td>\n      <td>25</td>\n      <td>18</td>\n      <td>89</td>\n    </tr>\n    <tr>\n      <th>1</th>\n      <td>John Doe</td>\n      <td>32</td>\n      <td>25</td>\n      <td>67</td>\n    </tr>\n    <tr>\n      <th>2</th>\n      <td>Juan Cruz</td>\n      <td>45</td>\n      <td>20</td>\n      <td>98</td>\n    </tr>\n    <tr>\n      <th>3</th>\n      <td>Juan dela Cruz</td>\n      <td>30</td>\n      <td>12</td>\n      <td>56</td>\n    </tr>\n    <tr>\n      <th>4</th>\n      <td>Filipinas Crux</td>\n      <td>20</td>\n      <td>15</td>\n      <td>88</td>\n    </tr>\n    <tr>\n      <th>5</th>\n      <td>Jane Perez</td>\n      <td>12</td>\n      <td>13</td>\n      <td>45</td>\n    </tr>\n    <tr>\n      <th>6</th>\n      <td>Peter Grey</td>\n      <td>45</td>\n      <td>14</td>\n      <td>57</td>\n    </tr>\n  </tbody>\n</table>\n</div>"
     },
     "execution_count": 21,
     "metadata": {},
     "output_type": "execute_result"
    }
   ],
   "source": [
    "pd.read_csv('/home/zenolucas/Desktop/SCHOOLING/dataAnalytics/CLASS.csv')"
   ],
   "metadata": {
    "collapsed": false
   }
  },
  {
   "cell_type": "code",
   "execution_count": 20,
   "outputs": [
    {
     "name": "stderr",
     "output_type": "stream",
     "text": [
      "/tmp/ipykernel_427/1454691906.py:1: FutureWarning: The default value of numeric_only in DataFrame.var is deprecated. In a future version, it will default to False. In addition, specifying 'numeric_only=None' is deprecated. Select only valid columns or specify the value of numeric_only to silence this warning.\n",
      "  r.var()\n"
     ]
    },
    {
     "data": {
      "text/plain": "quiz 1    150.476190\nquiz 2     21.238095\nEXAM      408.952381\ndtype: float64"
     },
     "execution_count": 20,
     "metadata": {},
     "output_type": "execute_result"
    }
   ],
   "source": [
    "r.var()"
   ],
   "metadata": {
    "collapsed": false
   }
  },
  {
   "cell_type": "code",
   "execution_count": 25,
   "outputs": [
    {
     "name": "stderr",
     "output_type": "stream",
     "text": [
      "/tmp/ipykernel_427/3298820843.py:1: FutureWarning: Dropping of nuisance columns in DataFrame reductions (with 'numeric_only=None') is deprecated; in a future version this will raise TypeError.  Select only valid columns before calling the reduction.\n",
      "  r.var(axis=1)\n"
     ]
    },
    {
     "data": {
      "text/plain": "0    1531.000000\n1     506.333333\n2    1586.333333\n3     489.333333\n4    1663.000000\n5     352.333333\n6     492.333333\ndtype: float64"
     },
     "execution_count": 25,
     "metadata": {},
     "output_type": "execute_result"
    }
   ],
   "source": [
    "r.var(axis=1)"
   ],
   "metadata": {
    "collapsed": false
   }
  },
  {
   "cell_type": "code",
   "execution_count": 26,
   "outputs": [
    {
     "data": {
      "text/plain": "150.47619047619048"
     },
     "execution_count": 26,
     "metadata": {},
     "output_type": "execute_result"
    }
   ],
   "source": [
    "r.loc[:,\"quiz 1\"].var()"
   ],
   "metadata": {
    "collapsed": false
   }
  },
  {
   "cell_type": "code",
   "execution_count": 27,
   "outputs": [
    {
     "name": "stderr",
     "output_type": "stream",
     "text": [
      "/tmp/ipykernel_427/1180438728.py:1: FutureWarning: The default value of numeric_only in DataFrame.std is deprecated. In a future version, it will default to False. In addition, specifying 'numeric_only=None' is deprecated. Select only valid columns or specify the value of numeric_only to silence this warning.\n",
      "  r.std()\n"
     ]
    },
    {
     "data": {
      "text/plain": "quiz 1    12.266874\nquiz 2     4.608481\nEXAM      20.222571\ndtype: float64"
     },
     "execution_count": 27,
     "metadata": {},
     "output_type": "execute_result"
    }
   ],
   "source": [
    "r.std()"
   ],
   "metadata": {
    "collapsed": false
   }
  },
  {
   "cell_type": "code",
   "execution_count": 28,
   "outputs": [
    {
     "name": "stderr",
     "output_type": "stream",
     "text": [
      "/tmp/ipykernel_427/3084229066.py:1: FutureWarning: The default value of numeric_only in DataFrame.std is deprecated. In a future version, it will default to False. In addition, specifying 'numeric_only=None' is deprecated. Select only valid columns or specify the value of numeric_only to silence this warning.\n",
      "  r.std(axis=0)\n"
     ]
    },
    {
     "data": {
      "text/plain": "quiz 1    12.266874\nquiz 2     4.608481\nEXAM      20.222571\ndtype: float64"
     },
     "execution_count": 28,
     "metadata": {},
     "output_type": "execute_result"
    }
   ],
   "source": [
    "r.std(axis=0)"
   ],
   "metadata": {
    "collapsed": false
   }
  },
  {
   "cell_type": "code",
   "execution_count": 29,
   "outputs": [
    {
     "name": "stderr",
     "output_type": "stream",
     "text": [
      "/tmp/ipykernel_427/417737652.py:1: FutureWarning: Dropping of nuisance columns in DataFrame reductions (with 'numeric_only=None') is deprecated; in a future version this will raise TypeError.  Select only valid columns before calling the reduction.\n",
      "  r.std(axis=1)\n"
     ]
    },
    {
     "data": {
      "text/plain": "0    39.127995\n1    22.501852\n2    39.828800\n3    22.120880\n4    40.779897\n5    18.770544\n6    22.188586\ndtype: float64"
     },
     "execution_count": 29,
     "metadata": {},
     "output_type": "execute_result"
    }
   ],
   "source": [
    "r.std(axis=1)"
   ],
   "metadata": {
    "collapsed": false
   }
  },
  {
   "cell_type": "code",
   "execution_count": 30,
   "outputs": [
    {
     "data": {
      "text/plain": "12.266873704256945"
     },
     "execution_count": 30,
     "metadata": {},
     "output_type": "execute_result"
    }
   ],
   "source": [
    "r.loc[:,\"quiz 1\"].std()"
   ],
   "metadata": {
    "collapsed": false
   }
  },
  {
   "cell_type": "code",
   "execution_count": 31,
   "outputs": [
    {
     "name": "stderr",
     "output_type": "stream",
     "text": [
      "/tmp/ipykernel_427/1224397764.py:1: FutureWarning: The default value of numeric_only in DataFrame.quantile is deprecated. In a future version, it will default to False. Select only valid columns or specify the value of numeric_only to silence this warning.\n",
      "  r.quantile([.25, .5, .75], axis = 0)\n"
     ]
    },
    {
     "data": {
      "text/plain": "      quiz 1  quiz 2  EXAM\n0.25    22.5    13.5  56.5\n0.50    30.0    15.0  67.0\n0.75    38.5    19.0  88.5",
      "text/html": "<div>\n<style scoped>\n    .dataframe tbody tr th:only-of-type {\n        vertical-align: middle;\n    }\n\n    .dataframe tbody tr th {\n        vertical-align: top;\n    }\n\n    .dataframe thead th {\n        text-align: right;\n    }\n</style>\n<table border=\"1\" class=\"dataframe\">\n  <thead>\n    <tr style=\"text-align: right;\">\n      <th></th>\n      <th>quiz 1</th>\n      <th>quiz 2</th>\n      <th>EXAM</th>\n    </tr>\n  </thead>\n  <tbody>\n    <tr>\n      <th>0.25</th>\n      <td>22.5</td>\n      <td>13.5</td>\n      <td>56.5</td>\n    </tr>\n    <tr>\n      <th>0.50</th>\n      <td>30.0</td>\n      <td>15.0</td>\n      <td>67.0</td>\n    </tr>\n    <tr>\n      <th>0.75</th>\n      <td>38.5</td>\n      <td>19.0</td>\n      <td>88.5</td>\n    </tr>\n  </tbody>\n</table>\n</div>"
     },
     "execution_count": 31,
     "metadata": {},
     "output_type": "execute_result"
    }
   ],
   "source": [
    "r.quantile([.25, .5, .75], axis = 0)"
   ],
   "metadata": {
    "collapsed": false
   }
  },
  {
   "cell_type": "code",
   "execution_count": 32,
   "outputs": [
    {
     "data": {
      "text/plain": "          quiz 1     quiz 2       EXAM\ncount   7.000000   7.000000   7.000000\nmean   29.857143  16.714286  71.428571\nstd    12.266874   4.608481  20.222571\nmin    12.000000  12.000000  45.000000\n25%    22.500000  13.500000  56.500000\n50%    30.000000  15.000000  67.000000\n75%    38.500000  19.000000  88.500000\nmax    45.000000  25.000000  98.000000",
      "text/html": "<div>\n<style scoped>\n    .dataframe tbody tr th:only-of-type {\n        vertical-align: middle;\n    }\n\n    .dataframe tbody tr th {\n        vertical-align: top;\n    }\n\n    .dataframe thead th {\n        text-align: right;\n    }\n</style>\n<table border=\"1\" class=\"dataframe\">\n  <thead>\n    <tr style=\"text-align: right;\">\n      <th></th>\n      <th>quiz 1</th>\n      <th>quiz 2</th>\n      <th>EXAM</th>\n    </tr>\n  </thead>\n  <tbody>\n    <tr>\n      <th>count</th>\n      <td>7.000000</td>\n      <td>7.000000</td>\n      <td>7.000000</td>\n    </tr>\n    <tr>\n      <th>mean</th>\n      <td>29.857143</td>\n      <td>16.714286</td>\n      <td>71.428571</td>\n    </tr>\n    <tr>\n      <th>std</th>\n      <td>12.266874</td>\n      <td>4.608481</td>\n      <td>20.222571</td>\n    </tr>\n    <tr>\n      <th>min</th>\n      <td>12.000000</td>\n      <td>12.000000</td>\n      <td>45.000000</td>\n    </tr>\n    <tr>\n      <th>25%</th>\n      <td>22.500000</td>\n      <td>13.500000</td>\n      <td>56.500000</td>\n    </tr>\n    <tr>\n      <th>50%</th>\n      <td>30.000000</td>\n      <td>15.000000</td>\n      <td>67.000000</td>\n    </tr>\n    <tr>\n      <th>75%</th>\n      <td>38.500000</td>\n      <td>19.000000</td>\n      <td>88.500000</td>\n    </tr>\n    <tr>\n      <th>max</th>\n      <td>45.000000</td>\n      <td>25.000000</td>\n      <td>98.000000</td>\n    </tr>\n  </tbody>\n</table>\n</div>"
     },
     "execution_count": 32,
     "metadata": {},
     "output_type": "execute_result"
    }
   ],
   "source": [
    "s = r.describe()\n",
    "s"
   ],
   "metadata": {
    "collapsed": false
   }
  },
  {
   "cell_type": "code",
   "execution_count": 37,
   "outputs": [
    {
     "data": {
      "text/plain": "    Item  Color Size  Count\n0      1    Red    M     18\n1      2    Red    M     22\n2      3    Red    M     28\n3      4   Blue    M     38\n4      5   Blue    M     33\n5      6   Blue    M     28\n6      7  Green    M     19\n7      8  Green    S     35\n8      9  Green    S     23\n9     10   Blue    S     13\n10    11   Blue    S     33\n11    12  Green    S     44\n12    13  Green    S     42\n13    14  Green    L     34\n14    15   Blue    L     35\n15    16   Blue    L     22\n16    17   Blue    L     26\n17    18   Blue    L     17\n18    19    Red    S     30\n19    20    Red    S     35\n20    21    Red    L     33",
      "text/html": "<div>\n<style scoped>\n    .dataframe tbody tr th:only-of-type {\n        vertical-align: middle;\n    }\n\n    .dataframe tbody tr th {\n        vertical-align: top;\n    }\n\n    .dataframe thead th {\n        text-align: right;\n    }\n</style>\n<table border=\"1\" class=\"dataframe\">\n  <thead>\n    <tr style=\"text-align: right;\">\n      <th></th>\n      <th>Item</th>\n      <th>Color</th>\n      <th>Size</th>\n      <th>Count</th>\n    </tr>\n  </thead>\n  <tbody>\n    <tr>\n      <th>0</th>\n      <td>1</td>\n      <td>Red</td>\n      <td>M</td>\n      <td>18</td>\n    </tr>\n    <tr>\n      <th>1</th>\n      <td>2</td>\n      <td>Red</td>\n      <td>M</td>\n      <td>22</td>\n    </tr>\n    <tr>\n      <th>2</th>\n      <td>3</td>\n      <td>Red</td>\n      <td>M</td>\n      <td>28</td>\n    </tr>\n    <tr>\n      <th>3</th>\n      <td>4</td>\n      <td>Blue</td>\n      <td>M</td>\n      <td>38</td>\n    </tr>\n    <tr>\n      <th>4</th>\n      <td>5</td>\n      <td>Blue</td>\n      <td>M</td>\n      <td>33</td>\n    </tr>\n    <tr>\n      <th>5</th>\n      <td>6</td>\n      <td>Blue</td>\n      <td>M</td>\n      <td>28</td>\n    </tr>\n    <tr>\n      <th>6</th>\n      <td>7</td>\n      <td>Green</td>\n      <td>M</td>\n      <td>19</td>\n    </tr>\n    <tr>\n      <th>7</th>\n      <td>8</td>\n      <td>Green</td>\n      <td>S</td>\n      <td>35</td>\n    </tr>\n    <tr>\n      <th>8</th>\n      <td>9</td>\n      <td>Green</td>\n      <td>S</td>\n      <td>23</td>\n    </tr>\n    <tr>\n      <th>9</th>\n      <td>10</td>\n      <td>Blue</td>\n      <td>S</td>\n      <td>13</td>\n    </tr>\n    <tr>\n      <th>10</th>\n      <td>11</td>\n      <td>Blue</td>\n      <td>S</td>\n      <td>33</td>\n    </tr>\n    <tr>\n      <th>11</th>\n      <td>12</td>\n      <td>Green</td>\n      <td>S</td>\n      <td>44</td>\n    </tr>\n    <tr>\n      <th>12</th>\n      <td>13</td>\n      <td>Green</td>\n      <td>S</td>\n      <td>42</td>\n    </tr>\n    <tr>\n      <th>13</th>\n      <td>14</td>\n      <td>Green</td>\n      <td>L</td>\n      <td>34</td>\n    </tr>\n    <tr>\n      <th>14</th>\n      <td>15</td>\n      <td>Blue</td>\n      <td>L</td>\n      <td>35</td>\n    </tr>\n    <tr>\n      <th>15</th>\n      <td>16</td>\n      <td>Blue</td>\n      <td>L</td>\n      <td>22</td>\n    </tr>\n    <tr>\n      <th>16</th>\n      <td>17</td>\n      <td>Blue</td>\n      <td>L</td>\n      <td>26</td>\n    </tr>\n    <tr>\n      <th>17</th>\n      <td>18</td>\n      <td>Blue</td>\n      <td>L</td>\n      <td>17</td>\n    </tr>\n    <tr>\n      <th>18</th>\n      <td>19</td>\n      <td>Red</td>\n      <td>S</td>\n      <td>30</td>\n    </tr>\n    <tr>\n      <th>19</th>\n      <td>20</td>\n      <td>Red</td>\n      <td>S</td>\n      <td>35</td>\n    </tr>\n    <tr>\n      <th>20</th>\n      <td>21</td>\n      <td>Red</td>\n      <td>L</td>\n      <td>33</td>\n    </tr>\n  </tbody>\n</table>\n</div>"
     },
     "execution_count": 37,
     "metadata": {},
     "output_type": "execute_result"
    }
   ],
   "source": [
    " df = pd.read_csv('/home/zenolucas/Desktop/SCHOOLING/dataAnalytics/resto1.csv')\n",
    "df"
   ],
   "metadata": {
    "collapsed": false
   }
  },
  {
   "cell_type": "code",
   "execution_count": 39,
   "outputs": [
    {
     "data": {
      "text/plain": "Text(0, 0.5, 'Frequency')"
     },
     "execution_count": 39,
     "metadata": {},
     "output_type": "execute_result"
    },
    {
     "data": {
      "text/plain": "<Figure size 640x480 with 1 Axes>",
      "image/png": "[encoded data removed]"
     },
     "metadata": {},
     "output_type": "display_data"
    }
   ],
   "source": [
    "plot_histogram = df['Count'].plot.hist(title='Histogram of Count')\n",
    "plot_histogram.set_xlabel(\"Count\")\n",
    "plot_histogram.set_ylabel(\"Frequency\")"
   ],
   "metadata": {
    "collapsed": false
   }
  },
  {
   "cell_type": "code",
   "execution_count": 40,
   "outputs": [
    {
     "data": {
      "text/plain": "Size     L   M    S\nColor              \nBlue   100  99   46\nGreen   34  19  144\nRed     33  68   65",
      "text/html": "<div>\n<style scoped>\n    .dataframe tbody tr th:only-of-type {\n        vertical-align: middle;\n    }\n\n    .dataframe tbody tr th {\n        vertical-align: top;\n    }\n\n    .dataframe thead th {\n        text-align: right;\n    }\n</style>\n<table border=\"1\" class=\"dataframe\">\n  <thead>\n    <tr style=\"text-align: right;\">\n      <th>Size</th>\n      <th>L</th>\n      <th>M</th>\n      <th>S</th>\n    </tr>\n    <tr>\n      <th>Color</th>\n      <th></th>\n      <th></th>\n      <th></th>\n    </tr>\n  </thead>\n  <tbody>\n    <tr>\n      <th>Blue</th>\n      <td>100</td>\n      <td>99</td>\n      <td>46</td>\n    </tr>\n    <tr>\n      <th>Green</th>\n      <td>34</td>\n      <td>19</td>\n      <td>144</td>\n    </tr>\n    <tr>\n      <th>Red</th>\n      <td>33</td>\n      <td>68</td>\n      <td>65</td>\n    </tr>\n  </tbody>\n</table>\n</div>"
     },
     "execution_count": 40,
     "metadata": {},
     "output_type": "execute_result"
    }
   ],
   "source": [
    "table = pd.pivot_table(df, values='Count', index=['Color'], columns=['Size'], aggfunc=np.sum)\n",
    "table"
   ],
   "metadata": {
    "collapsed": false
   }
  },
  {
   "cell_type": "code",
   "execution_count": 42,
   "outputs": [
    {
     "data": {
      "text/plain": "Size      L          M     S\nColor                       \nBlue   25.0  33.000000  23.0\nGreen  34.0  19.000000  36.0\nRed    33.0  22.666667  32.5",
      "text/html": "<div>\n<style scoped>\n    .dataframe tbody tr th:only-of-type {\n        vertical-align: middle;\n    }\n\n    .dataframe tbody tr th {\n        vertical-align: top;\n    }\n\n    .dataframe thead th {\n        text-align: right;\n    }\n</style>\n<table border=\"1\" class=\"dataframe\">\n  <thead>\n    <tr style=\"text-align: right;\">\n      <th>Size</th>\n      <th>L</th>\n      <th>M</th>\n      <th>S</th>\n    </tr>\n    <tr>\n      <th>Color</th>\n      <th></th>\n      <th></th>\n      <th></th>\n    </tr>\n  </thead>\n  <tbody>\n    <tr>\n      <th>Blue</th>\n      <td>25.0</td>\n      <td>33.000000</td>\n      <td>23.0</td>\n    </tr>\n    <tr>\n      <th>Green</th>\n      <td>34.0</td>\n      <td>19.000000</td>\n      <td>36.0</td>\n    </tr>\n    <tr>\n      <th>Red</th>\n      <td>33.0</td>\n      <td>22.666667</td>\n      <td>32.5</td>\n    </tr>\n  </tbody>\n</table>\n</div>"
     },
     "execution_count": 42,
     "metadata": {},
     "output_type": "execute_result"
    }
   ],
   "source": [
    "table = pd.pivot_table(df, values='Count', index=['Color'], columns=['Size'], aggfunc=np.mean)\n",
    "table"
   ],
   "metadata": {
    "collapsed": false
   }
  },
  {
   "cell_type": "code",
   "execution_count": 2,
   "outputs": [
    {
     "ename": "NameError",
     "evalue": "name 'pd' is not defined",
     "output_type": "error",
     "traceback": [
      "\u001B[0;31m---------------------------------------------------------------------------\u001B[0m",
      "\u001B[0;31mNameError\u001B[0m                                 Traceback (most recent call last)",
      "Cell \u001B[0;32mIn[2], line 1\u001B[0m\n\u001B[0;32m----> 1\u001B[0m \u001B[43mpd\u001B[49m\u001B[38;5;241m.\u001B[39mread_csv(\u001B[38;5;124m'\u001B[39m\u001B[38;5;124m/home/zenolucas/Desktop/SCHOOLING/dataAnalytics/TS_spotify.csv\u001B[39m\u001B[38;5;124m'\u001B[39m)\n",
      "\u001B[0;31mNameError\u001B[0m: name 'pd' is not defined"
     ]
    }
   ],
   "source": [
    "pd.read_csv('/home/zenolucas/Desktop/SCHOOLING/dataAnalytics/TS_spotify.csv')"
   ],
   "metadata": {
    "collapsed": false
   }
  }
 ],
 "metadata": {
  "kernelspec": {
   "display_name": "Python 3",
   "language": "python",
   "name": "python3"
  },
  "language_info": {
   "codemirror_mode": {
    "name": "ipython",
    "version": 2
   },
   "file_extension": ".py",
   "mimetype": "text/x-python",
   "name": "python",
   "nbconvert_exporter": "python",
   "pygments_lexer": "ipython2",
   "version": "2.7.6"
  }
 },
 "nbformat": 4,
 "nbformat_minor": 0
}
