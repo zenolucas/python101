{
 "cells": [
  {
   "cell_type": "code",
   "execution_count": 1,
   "metadata": {
    "collapsed": true
   },
   "outputs": [],
   "source": [
    "import pandas as pd"
   ]
  },
  {
   "cell_type": "code",
   "execution_count": 3,
   "outputs": [
    {
     "data": {
      "text/plain": "      Account Length Int'l Plan VMail Plan  VMail Message  Day Mins  \\\n0                128         no        yes             25     265.1   \n1                107         no        yes             26     161.6   \n2                137         no         no              0     243.4   \n3                 84        yes         no              0     299.4   \n4                 75        yes         no              0     166.7   \n...              ...        ...        ...            ...       ...   \n3328             192         no        yes             36     156.2   \n3329              68         no         no              0     231.1   \n3330              28         no         no              0     180.8   \n3331             184        yes         no              0     213.8   \n3332              74         no        yes             25     234.4   \n\n      Day Calls  Day Charge  Eve Mins  Eve Calls  Eve Charge  Night Mins  \\\n0           110       45.07     197.4         99       16.78       244.7   \n1           123       27.47     195.5        103       16.62       254.4   \n2           114       41.38     121.2        110       10.30       162.6   \n3            71       50.90      61.9         88        5.26       196.9   \n4           113       28.34     148.3        122       12.61       186.9   \n...         ...         ...       ...        ...         ...         ...   \n3328         77       26.55     215.5        126       18.32       279.1   \n3329         57       39.29     153.4         55       13.04       191.3   \n3330        109       30.74     288.8         58       24.55       191.9   \n3331        105       36.35     159.6         84       13.57       139.2   \n3332        113       39.85     265.9         82       22.60       241.4   \n\n      Night Calls  Night Charge  Intl Mins  Intl Calls  Intl Charge  \\\n0              91         11.01       10.0           3         2.70   \n1             103         11.45       13.7           3         3.70   \n2             104          7.32       12.2           5         3.29   \n3              89          8.86        6.6           7         1.78   \n4             121          8.41       10.1           3         2.73   \n...           ...           ...        ...         ...          ...   \n3328           83         12.56        9.9           6         2.67   \n3329          123          8.61        9.6           4         2.59   \n3330           91          8.64       14.1           6         3.81   \n3331          137          6.26        5.0          10         1.35   \n3332           77         10.86       13.7           4         3.70   \n\n      CustServ Calls  Churn?  \n0                  1  False.  \n1                  1  False.  \n2                  0  False.  \n3                  2  False.  \n4                  3  False.  \n...              ...     ...  \n3328               2  False.  \n3329               3  False.  \n3330               2  False.  \n3331               2  False.  \n3332               0  False.  \n\n[3333 rows x 18 columns]",
      "text/html": "<div>\n<style scoped>\n    .dataframe tbody tr th:only-of-type {\n        vertical-align: middle;\n    }\n\n    .dataframe tbody tr th {\n        vertical-align: top;\n    }\n\n    .dataframe thead th {\n        text-align: right;\n    }\n</style>\n<table border=\"1\" class=\"dataframe\">\n  <thead>\n    <tr style=\"text-align: right;\">\n      <th></th>\n      <th>Account Length</th>\n      <th>Int'l Plan</th>\n      <th>VMail Plan</th>\n      <th>VMail Message</th>\n      <th>Day Mins</th>\n      <th>Day Calls</th>\n      <th>Day Charge</th>\n      <th>Eve Mins</th>\n      <th>Eve Calls</th>\n      <th>Eve Charge</th>\n      <th>Night Mins</th>\n      <th>Night Calls</th>\n      <th>Night Charge</th>\n      <th>Intl Mins</th>\n      <th>Intl Calls</th>\n      <th>Intl Charge</th>\n      <th>CustServ Calls</th>\n      <th>Churn?</th>\n    </tr>\n  </thead>\n  <tbody>\n    <tr>\n      <th>0</th>\n      <td>128</td>\n      <td>no</td>\n      <td>yes</td>\n      <td>25</td>\n      <td>265.1</td>\n      <td>110</td>\n      <td>45.07</td>\n      <td>197.4</td>\n      <td>99</td>\n      <td>16.78</td>\n      <td>244.7</td>\n      <td>91</td>\n      <td>11.01</td>\n      <td>10.0</td>\n      <td>3</td>\n      <td>2.70</td>\n      <td>1</td>\n      <td>False.</td>\n    </tr>\n    <tr>\n      <th>1</th>\n      <td>107</td>\n      <td>no</td>\n      <td>yes</td>\n      <td>26</td>\n      <td>161.6</td>\n      <td>123</td>\n      <td>27.47</td>\n      <td>195.5</td>\n      <td>103</td>\n      <td>16.62</td>\n      <td>254.4</td>\n      <td>103</td>\n      <td>11.45</td>\n      <td>13.7</td>\n      <td>3</td>\n      <td>3.70</td>\n      <td>1</td>\n      <td>False.</td>\n    </tr>\n    <tr>\n      <th>2</th>\n      <td>137</td>\n      <td>no</td>\n      <td>no</td>\n      <td>0</td>\n      <td>243.4</td>\n      <td>114</td>\n      <td>41.38</td>\n      <td>121.2</td>\n      <td>110</td>\n      <td>10.30</td>\n      <td>162.6</td>\n      <td>104</td>\n      <td>7.32</td>\n      <td>12.2</td>\n      <td>5</td>\n      <td>3.29</td>\n      <td>0</td>\n      <td>False.</td>\n    </tr>\n    <tr>\n      <th>3</th>\n      <td>84</td>\n      <td>yes</td>\n      <td>no</td>\n      <td>0</td>\n      <td>299.4</td>\n      <td>71</td>\n      <td>50.90</td>\n      <td>61.9</td>\n      <td>88</td>\n      <td>5.26</td>\n      <td>196.9</td>\n      <td>89</td>\n      <td>8.86</td>\n      <td>6.6</td>\n      <td>7</td>\n      <td>1.78</td>\n      <td>2</td>\n      <td>False.</td>\n    </tr>\n    <tr>\n      <th>4</th>\n      <td>75</td>\n      <td>yes</td>\n      <td>no</td>\n      <td>0</td>\n      <td>166.7</td>\n      <td>113</td>\n      <td>28.34</td>\n      <td>148.3</td>\n      <td>122</td>\n      <td>12.61</td>\n      <td>186.9</td>\n      <td>121</td>\n      <td>8.41</td>\n      <td>10.1</td>\n      <td>3</td>\n      <td>2.73</td>\n      <td>3</td>\n      <td>False.</td>\n    </tr>\n    <tr>\n      <th>...</th>\n      <td>...</td>\n      <td>...</td>\n      <td>...</td>\n      <td>...</td>\n      <td>...</td>\n      <td>...</td>\n      <td>...</td>\n      <td>...</td>\n      <td>...</td>\n      <td>...</td>\n      <td>...</td>\n      <td>...</td>\n      <td>...</td>\n      <td>...</td>\n      <td>...</td>\n      <td>...</td>\n      <td>...</td>\n      <td>...</td>\n    </tr>\n    <tr>\n      <th>3328</th>\n      <td>192</td>\n      <td>no</td>\n      <td>yes</td>\n      <td>36</td>\n      <td>156.2</td>\n      <td>77</td>\n      <td>26.55</td>\n      <td>215.5</td>\n      <td>126</td>\n      <td>18.32</td>\n      <td>279.1</td>\n      <td>83</td>\n      <td>12.56</td>\n      <td>9.9</td>\n      <td>6</td>\n      <td>2.67</td>\n      <td>2</td>\n      <td>False.</td>\n    </tr>\n    <tr>\n      <th>3329</th>\n      <td>68</td>\n      <td>no</td>\n      <td>no</td>\n      <td>0</td>\n      <td>231.1</td>\n      <td>57</td>\n      <td>39.29</td>\n      <td>153.4</td>\n      <td>55</td>\n      <td>13.04</td>\n      <td>191.3</td>\n      <td>123</td>\n      <td>8.61</td>\n      <td>9.6</td>\n      <td>4</td>\n      <td>2.59</td>\n      <td>3</td>\n      <td>False.</td>\n    </tr>\n    <tr>\n      <th>3330</th>\n      <td>28</td>\n      <td>no</td>\n      <td>no</td>\n      <td>0</td>\n      <td>180.8</td>\n      <td>109</td>\n      <td>30.74</td>\n      <td>288.8</td>\n      <td>58</td>\n      <td>24.55</td>\n      <td>191.9</td>\n      <td>91</td>\n      <td>8.64</td>\n      <td>14.1</td>\n      <td>6</td>\n      <td>3.81</td>\n      <td>2</td>\n      <td>False.</td>\n    </tr>\n    <tr>\n      <th>3331</th>\n      <td>184</td>\n      <td>yes</td>\n      <td>no</td>\n      <td>0</td>\n      <td>213.8</td>\n      <td>105</td>\n      <td>36.35</td>\n      <td>159.6</td>\n      <td>84</td>\n      <td>13.57</td>\n      <td>139.2</td>\n      <td>137</td>\n      <td>6.26</td>\n      <td>5.0</td>\n      <td>10</td>\n      <td>1.35</td>\n      <td>2</td>\n      <td>False.</td>\n    </tr>\n    <tr>\n      <th>3332</th>\n      <td>74</td>\n      <td>no</td>\n      <td>yes</td>\n      <td>25</td>\n      <td>234.4</td>\n      <td>113</td>\n      <td>39.85</td>\n      <td>265.9</td>\n      <td>82</td>\n      <td>22.60</td>\n      <td>241.4</td>\n      <td>77</td>\n      <td>10.86</td>\n      <td>13.7</td>\n      <td>4</td>\n      <td>3.70</td>\n      <td>0</td>\n      <td>False.</td>\n    </tr>\n  </tbody>\n</table>\n<p>3333 rows × 18 columns</p>\n</div>"
     },
     "execution_count": 3,
     "metadata": {},
     "output_type": "execute_result"
    }
   ],
   "source": [
    "data = pd.read_csv('/home/zenolucas/PycharmProjects/python101/notebooks/data/churndata.csv')\n",
    "data"
   ],
   "metadata": {
    "collapsed": false
   }
  },
  {
   "cell_type": "code",
   "execution_count": 6,
   "outputs": [
    {
     "data": {
      "text/plain": "      Account Length Int'l Plan VMail Plan  VMail Message  Day Mins  \\\n10                65         no         no              0     129.1   \n15               161         no         no              0     332.9   \n21                77         no         no              0      62.4   \n33                12         no         no              0     249.6   \n41               135        yes        yes             41     173.1   \n...              ...        ...        ...            ...       ...   \n3301              84         no         no              0     280.0   \n3304              71        yes         no              0     186.1   \n3320             122        yes         no              0     140.0   \n3322              62         no         no              0     321.1   \n3323             117         no         no              0     118.4   \n\n      Day Calls  Day Charge  Eve Mins  Eve Calls  Eve Charge  Night Mins  \\\n10          137       21.95     228.5         83       19.42       208.8   \n15           67       56.59     317.8         97       27.01       160.6   \n21           89       10.61     169.9        121       14.44       209.6   \n33          118       42.43     252.4        119       21.45       280.2   \n41           85       29.43     203.9        107       17.33       122.2   \n...         ...         ...       ...        ...         ...         ...   \n3301        113       47.60     202.2         90       17.19       156.8   \n3304        114       31.64     198.6        140       16.88       206.5   \n3320        101       23.80     196.4         77       16.69       120.1   \n3322        105       54.59     265.5        122       22.57       180.5   \n3323        126       20.13     249.3         97       21.19       227.0   \n\n      Night Calls  Night Charge  Intl Mins  Intl Calls  Intl Charge  \\\n10            111          9.40       12.7           6         3.43   \n15            128          7.23        5.4           9         1.46   \n21             64          9.43        5.7           6         1.54   \n33             90         12.61       11.8           3         3.19   \n41             78          5.50       14.6          15         3.94   \n...           ...           ...        ...         ...          ...   \n3301          103          7.06       10.4           4         2.81   \n3304           80          9.29       13.8           5         3.73   \n3320          133          5.40        9.7           4         2.62   \n3322           72          8.12       11.5           2         3.11   \n3323           56         10.22       13.6           3         3.67   \n\n      CustServ Calls Churn?  \n10                 4  True.  \n15                 4  True.  \n21                 5  True.  \n33                 1  True.  \n41                 0  True.  \n...              ...    ...  \n3301               0  True.  \n3304               4  True.  \n3320               4  True.  \n3322               4  True.  \n3323               5  True.  \n\n[483 rows x 18 columns]",
      "text/html": "<div>\n<style scoped>\n    .dataframe tbody tr th:only-of-type {\n        vertical-align: middle;\n    }\n\n    .dataframe tbody tr th {\n        vertical-align: top;\n    }\n\n    .dataframe thead th {\n        text-align: right;\n    }\n</style>\n<table border=\"1\" class=\"dataframe\">\n  <thead>\n    <tr style=\"text-align: right;\">\n      <th></th>\n      <th>Account Length</th>\n      <th>Int'l Plan</th>\n      <th>VMail Plan</th>\n      <th>VMail Message</th>\n      <th>Day Mins</th>\n      <th>Day Calls</th>\n      <th>Day Charge</th>\n      <th>Eve Mins</th>\n      <th>Eve Calls</th>\n      <th>Eve Charge</th>\n      <th>Night Mins</th>\n      <th>Night Calls</th>\n      <th>Night Charge</th>\n      <th>Intl Mins</th>\n      <th>Intl Calls</th>\n      <th>Intl Charge</th>\n      <th>CustServ Calls</th>\n      <th>Churn?</th>\n    </tr>\n  </thead>\n  <tbody>\n    <tr>\n      <th>10</th>\n      <td>65</td>\n      <td>no</td>\n      <td>no</td>\n      <td>0</td>\n      <td>129.1</td>\n      <td>137</td>\n      <td>21.95</td>\n      <td>228.5</td>\n      <td>83</td>\n      <td>19.42</td>\n      <td>208.8</td>\n      <td>111</td>\n      <td>9.40</td>\n      <td>12.7</td>\n      <td>6</td>\n      <td>3.43</td>\n      <td>4</td>\n      <td>True.</td>\n    </tr>\n    <tr>\n      <th>15</th>\n      <td>161</td>\n      <td>no</td>\n      <td>no</td>\n      <td>0</td>\n      <td>332.9</td>\n      <td>67</td>\n      <td>56.59</td>\n      <td>317.8</td>\n      <td>97</td>\n      <td>27.01</td>\n      <td>160.6</td>\n      <td>128</td>\n      <td>7.23</td>\n      <td>5.4</td>\n      <td>9</td>\n      <td>1.46</td>\n      <td>4</td>\n      <td>True.</td>\n    </tr>\n    <tr>\n      <th>21</th>\n      <td>77</td>\n      <td>no</td>\n      <td>no</td>\n      <td>0</td>\n      <td>62.4</td>\n      <td>89</td>\n      <td>10.61</td>\n      <td>169.9</td>\n      <td>121</td>\n      <td>14.44</td>\n      <td>209.6</td>\n      <td>64</td>\n      <td>9.43</td>\n      <td>5.7</td>\n      <td>6</td>\n      <td>1.54</td>\n      <td>5</td>\n      <td>True.</td>\n    </tr>\n    <tr>\n      <th>33</th>\n      <td>12</td>\n      <td>no</td>\n      <td>no</td>\n      <td>0</td>\n      <td>249.6</td>\n      <td>118</td>\n      <td>42.43</td>\n      <td>252.4</td>\n      <td>119</td>\n      <td>21.45</td>\n      <td>280.2</td>\n      <td>90</td>\n      <td>12.61</td>\n      <td>11.8</td>\n      <td>3</td>\n      <td>3.19</td>\n      <td>1</td>\n      <td>True.</td>\n    </tr>\n    <tr>\n      <th>41</th>\n      <td>135</td>\n      <td>yes</td>\n      <td>yes</td>\n      <td>41</td>\n      <td>173.1</td>\n      <td>85</td>\n      <td>29.43</td>\n      <td>203.9</td>\n      <td>107</td>\n      <td>17.33</td>\n      <td>122.2</td>\n      <td>78</td>\n      <td>5.50</td>\n      <td>14.6</td>\n      <td>15</td>\n      <td>3.94</td>\n      <td>0</td>\n      <td>True.</td>\n    </tr>\n    <tr>\n      <th>...</th>\n      <td>...</td>\n      <td>...</td>\n      <td>...</td>\n      <td>...</td>\n      <td>...</td>\n      <td>...</td>\n      <td>...</td>\n      <td>...</td>\n      <td>...</td>\n      <td>...</td>\n      <td>...</td>\n      <td>...</td>\n      <td>...</td>\n      <td>...</td>\n      <td>...</td>\n      <td>...</td>\n      <td>...</td>\n      <td>...</td>\n    </tr>\n    <tr>\n      <th>3301</th>\n      <td>84</td>\n      <td>no</td>\n      <td>no</td>\n      <td>0</td>\n      <td>280.0</td>\n      <td>113</td>\n      <td>47.60</td>\n      <td>202.2</td>\n      <td>90</td>\n      <td>17.19</td>\n      <td>156.8</td>\n      <td>103</td>\n      <td>7.06</td>\n      <td>10.4</td>\n      <td>4</td>\n      <td>2.81</td>\n      <td>0</td>\n      <td>True.</td>\n    </tr>\n    <tr>\n      <th>3304</th>\n      <td>71</td>\n      <td>yes</td>\n      <td>no</td>\n      <td>0</td>\n      <td>186.1</td>\n      <td>114</td>\n      <td>31.64</td>\n      <td>198.6</td>\n      <td>140</td>\n      <td>16.88</td>\n      <td>206.5</td>\n      <td>80</td>\n      <td>9.29</td>\n      <td>13.8</td>\n      <td>5</td>\n      <td>3.73</td>\n      <td>4</td>\n      <td>True.</td>\n    </tr>\n    <tr>\n      <th>3320</th>\n      <td>122</td>\n      <td>yes</td>\n      <td>no</td>\n      <td>0</td>\n      <td>140.0</td>\n      <td>101</td>\n      <td>23.80</td>\n      <td>196.4</td>\n      <td>77</td>\n      <td>16.69</td>\n      <td>120.1</td>\n      <td>133</td>\n      <td>5.40</td>\n      <td>9.7</td>\n      <td>4</td>\n      <td>2.62</td>\n      <td>4</td>\n      <td>True.</td>\n    </tr>\n    <tr>\n      <th>3322</th>\n      <td>62</td>\n      <td>no</td>\n      <td>no</td>\n      <td>0</td>\n      <td>321.1</td>\n      <td>105</td>\n      <td>54.59</td>\n      <td>265.5</td>\n      <td>122</td>\n      <td>22.57</td>\n      <td>180.5</td>\n      <td>72</td>\n      <td>8.12</td>\n      <td>11.5</td>\n      <td>2</td>\n      <td>3.11</td>\n      <td>4</td>\n      <td>True.</td>\n    </tr>\n    <tr>\n      <th>3323</th>\n      <td>117</td>\n      <td>no</td>\n      <td>no</td>\n      <td>0</td>\n      <td>118.4</td>\n      <td>126</td>\n      <td>20.13</td>\n      <td>249.3</td>\n      <td>97</td>\n      <td>21.19</td>\n      <td>227.0</td>\n      <td>56</td>\n      <td>10.22</td>\n      <td>13.6</td>\n      <td>3</td>\n      <td>3.67</td>\n      <td>5</td>\n      <td>True.</td>\n    </tr>\n  </tbody>\n</table>\n<p>483 rows × 18 columns</p>\n</div>"
     },
     "execution_count": 6,
     "metadata": {},
     "output_type": "execute_result"
    }
   ],
   "source": [
    "Churned= data[data['Churn?'] == \"True.\"]\n",
    "Churned"
   ],
   "metadata": {
    "collapsed": false
   }
  },
  {
   "cell_type": "code",
   "execution_count": 7,
   "outputs": [
    {
     "data": {
      "text/plain": "      Account Length Int'l Plan VMail Plan  VMail Message  Day Mins  \\\n0                128         no        yes             25     265.1   \n1                107         no        yes             26     161.6   \n2                137         no         no              0     243.4   \n3                 84        yes         no              0     299.4   \n4                 75        yes         no              0     166.7   \n...              ...        ...        ...            ...       ...   \n3328             192         no        yes             36     156.2   \n3329              68         no         no              0     231.1   \n3330              28         no         no              0     180.8   \n3331             184        yes         no              0     213.8   \n3332              74         no        yes             25     234.4   \n\n      Day Calls  Day Charge  Eve Mins  Eve Calls  Eve Charge  Night Mins  \\\n0           110       45.07     197.4         99       16.78       244.7   \n1           123       27.47     195.5        103       16.62       254.4   \n2           114       41.38     121.2        110       10.30       162.6   \n3            71       50.90      61.9         88        5.26       196.9   \n4           113       28.34     148.3        122       12.61       186.9   \n...         ...         ...       ...        ...         ...         ...   \n3328         77       26.55     215.5        126       18.32       279.1   \n3329         57       39.29     153.4         55       13.04       191.3   \n3330        109       30.74     288.8         58       24.55       191.9   \n3331        105       36.35     159.6         84       13.57       139.2   \n3332        113       39.85     265.9         82       22.60       241.4   \n\n      Night Calls  Night Charge  Intl Mins  Intl Calls  Intl Charge  \\\n0              91         11.01       10.0           3         2.70   \n1             103         11.45       13.7           3         3.70   \n2             104          7.32       12.2           5         3.29   \n3              89          8.86        6.6           7         1.78   \n4             121          8.41       10.1           3         2.73   \n...           ...           ...        ...         ...          ...   \n3328           83         12.56        9.9           6         2.67   \n3329          123          8.61        9.6           4         2.59   \n3330           91          8.64       14.1           6         3.81   \n3331          137          6.26        5.0          10         1.35   \n3332           77         10.86       13.7           4         3.70   \n\n      CustServ Calls  Churn?  \n0                  1  False.  \n1                  1  False.  \n2                  0  False.  \n3                  2  False.  \n4                  3  False.  \n...              ...     ...  \n3328               2  False.  \n3329               3  False.  \n3330               2  False.  \n3331               2  False.  \n3332               0  False.  \n\n[2850 rows x 18 columns]",
      "text/html": "<div>\n<style scoped>\n    .dataframe tbody tr th:only-of-type {\n        vertical-align: middle;\n    }\n\n    .dataframe tbody tr th {\n        vertical-align: top;\n    }\n\n    .dataframe thead th {\n        text-align: right;\n    }\n</style>\n<table border=\"1\" class=\"dataframe\">\n  <thead>\n    <tr style=\"text-align: right;\">\n      <th></th>\n      <th>Account Length</th>\n      <th>Int'l Plan</th>\n      <th>VMail Plan</th>\n      <th>VMail Message</th>\n      <th>Day Mins</th>\n      <th>Day Calls</th>\n      <th>Day Charge</th>\n      <th>Eve Mins</th>\n      <th>Eve Calls</th>\n      <th>Eve Charge</th>\n      <th>Night Mins</th>\n      <th>Night Calls</th>\n      <th>Night Charge</th>\n      <th>Intl Mins</th>\n      <th>Intl Calls</th>\n      <th>Intl Charge</th>\n      <th>CustServ Calls</th>\n      <th>Churn?</th>\n    </tr>\n  </thead>\n  <tbody>\n    <tr>\n      <th>0</th>\n      <td>128</td>\n      <td>no</td>\n      <td>yes</td>\n      <td>25</td>\n      <td>265.1</td>\n      <td>110</td>\n      <td>45.07</td>\n      <td>197.4</td>\n      <td>99</td>\n      <td>16.78</td>\n      <td>244.7</td>\n      <td>91</td>\n      <td>11.01</td>\n      <td>10.0</td>\n      <td>3</td>\n      <td>2.70</td>\n      <td>1</td>\n      <td>False.</td>\n    </tr>\n    <tr>\n      <th>1</th>\n      <td>107</td>\n      <td>no</td>\n      <td>yes</td>\n      <td>26</td>\n      <td>161.6</td>\n      <td>123</td>\n      <td>27.47</td>\n      <td>195.5</td>\n      <td>103</td>\n      <td>16.62</td>\n      <td>254.4</td>\n      <td>103</td>\n      <td>11.45</td>\n      <td>13.7</td>\n      <td>3</td>\n      <td>3.70</td>\n      <td>1</td>\n      <td>False.</td>\n    </tr>\n    <tr>\n      <th>2</th>\n      <td>137</td>\n      <td>no</td>\n      <td>no</td>\n      <td>0</td>\n      <td>243.4</td>\n      <td>114</td>\n      <td>41.38</td>\n      <td>121.2</td>\n      <td>110</td>\n      <td>10.30</td>\n      <td>162.6</td>\n      <td>104</td>\n      <td>7.32</td>\n      <td>12.2</td>\n      <td>5</td>\n      <td>3.29</td>\n      <td>0</td>\n      <td>False.</td>\n    </tr>\n    <tr>\n      <th>3</th>\n      <td>84</td>\n      <td>yes</td>\n      <td>no</td>\n      <td>0</td>\n      <td>299.4</td>\n      <td>71</td>\n      <td>50.90</td>\n      <td>61.9</td>\n      <td>88</td>\n      <td>5.26</td>\n      <td>196.9</td>\n      <td>89</td>\n      <td>8.86</td>\n      <td>6.6</td>\n      <td>7</td>\n      <td>1.78</td>\n      <td>2</td>\n      <td>False.</td>\n    </tr>\n    <tr>\n      <th>4</th>\n      <td>75</td>\n      <td>yes</td>\n      <td>no</td>\n      <td>0</td>\n      <td>166.7</td>\n      <td>113</td>\n      <td>28.34</td>\n      <td>148.3</td>\n      <td>122</td>\n      <td>12.61</td>\n      <td>186.9</td>\n      <td>121</td>\n      <td>8.41</td>\n      <td>10.1</td>\n      <td>3</td>\n      <td>2.73</td>\n      <td>3</td>\n      <td>False.</td>\n    </tr>\n    <tr>\n      <th>...</th>\n      <td>...</td>\n      <td>...</td>\n      <td>...</td>\n      <td>...</td>\n      <td>...</td>\n      <td>...</td>\n      <td>...</td>\n      <td>...</td>\n      <td>...</td>\n      <td>...</td>\n      <td>...</td>\n      <td>...</td>\n      <td>...</td>\n      <td>...</td>\n      <td>...</td>\n      <td>...</td>\n      <td>...</td>\n      <td>...</td>\n    </tr>\n    <tr>\n      <th>3328</th>\n      <td>192</td>\n      <td>no</td>\n      <td>yes</td>\n      <td>36</td>\n      <td>156.2</td>\n      <td>77</td>\n      <td>26.55</td>\n      <td>215.5</td>\n      <td>126</td>\n      <td>18.32</td>\n      <td>279.1</td>\n      <td>83</td>\n      <td>12.56</td>\n      <td>9.9</td>\n      <td>6</td>\n      <td>2.67</td>\n      <td>2</td>\n      <td>False.</td>\n    </tr>\n    <tr>\n      <th>3329</th>\n      <td>68</td>\n      <td>no</td>\n      <td>no</td>\n      <td>0</td>\n      <td>231.1</td>\n      <td>57</td>\n      <td>39.29</td>\n      <td>153.4</td>\n      <td>55</td>\n      <td>13.04</td>\n      <td>191.3</td>\n      <td>123</td>\n      <td>8.61</td>\n      <td>9.6</td>\n      <td>4</td>\n      <td>2.59</td>\n      <td>3</td>\n      <td>False.</td>\n    </tr>\n    <tr>\n      <th>3330</th>\n      <td>28</td>\n      <td>no</td>\n      <td>no</td>\n      <td>0</td>\n      <td>180.8</td>\n      <td>109</td>\n      <td>30.74</td>\n      <td>288.8</td>\n      <td>58</td>\n      <td>24.55</td>\n      <td>191.9</td>\n      <td>91</td>\n      <td>8.64</td>\n      <td>14.1</td>\n      <td>6</td>\n      <td>3.81</td>\n      <td>2</td>\n      <td>False.</td>\n    </tr>\n    <tr>\n      <th>3331</th>\n      <td>184</td>\n      <td>yes</td>\n      <td>no</td>\n      <td>0</td>\n      <td>213.8</td>\n      <td>105</td>\n      <td>36.35</td>\n      <td>159.6</td>\n      <td>84</td>\n      <td>13.57</td>\n      <td>139.2</td>\n      <td>137</td>\n      <td>6.26</td>\n      <td>5.0</td>\n      <td>10</td>\n      <td>1.35</td>\n      <td>2</td>\n      <td>False.</td>\n    </tr>\n    <tr>\n      <th>3332</th>\n      <td>74</td>\n      <td>no</td>\n      <td>yes</td>\n      <td>25</td>\n      <td>234.4</td>\n      <td>113</td>\n      <td>39.85</td>\n      <td>265.9</td>\n      <td>82</td>\n      <td>22.60</td>\n      <td>241.4</td>\n      <td>77</td>\n      <td>10.86</td>\n      <td>13.7</td>\n      <td>4</td>\n      <td>3.70</td>\n      <td>0</td>\n      <td>False.</td>\n    </tr>\n  </tbody>\n</table>\n<p>2850 rows × 18 columns</p>\n</div>"
     },
     "execution_count": 7,
     "metadata": {},
     "output_type": "execute_result"
    }
   ],
   "source": [
    "nonChurned= data[data['Churn?'] == \"False.\"]\n",
    "nonChurned"
   ],
   "metadata": {
    "collapsed": false
   }
  },
  {
   "cell_type": "code",
   "execution_count": 9,
   "outputs": [
    {
     "data": {
      "text/plain": "        CustServ Calls\nChurn?                \nFalse.        1.449825\nTrue.         2.229814",
      "text/html": "<div>\n<style scoped>\n    .dataframe tbody tr th:only-of-type {\n        vertical-align: middle;\n    }\n\n    .dataframe tbody tr th {\n        vertical-align: top;\n    }\n\n    .dataframe thead th {\n        text-align: right;\n    }\n</style>\n<table border=\"1\" class=\"dataframe\">\n  <thead>\n    <tr style=\"text-align: right;\">\n      <th></th>\n      <th>CustServ Calls</th>\n    </tr>\n    <tr>\n      <th>Churn?</th>\n      <th></th>\n    </tr>\n  </thead>\n  <tbody>\n    <tr>\n      <th>False.</th>\n      <td>1.449825</td>\n    </tr>\n    <tr>\n      <th>True.</th>\n      <td>2.229814</td>\n    </tr>\n  </tbody>\n</table>\n</div>"
     },
     "execution_count": 9,
     "metadata": {},
     "output_type": "execute_result"
    }
   ],
   "source": [
    "mean = data.groupby(\"Churn?\").agg({\"CustServ Calls\" : \"mean\"})\n",
    "mean"
   ],
   "metadata": {
    "collapsed": false
   }
  },
  {
   "cell_type": "code",
   "execution_count": 10,
   "outputs": [
    {
     "data": {
      "text/plain": "        CustServ Calls\nChurn?                \nFalse.             1.0\nTrue.              2.0",
      "text/html": "<div>\n<style scoped>\n    .dataframe tbody tr th:only-of-type {\n        vertical-align: middle;\n    }\n\n    .dataframe tbody tr th {\n        vertical-align: top;\n    }\n\n    .dataframe thead th {\n        text-align: right;\n    }\n</style>\n<table border=\"1\" class=\"dataframe\">\n  <thead>\n    <tr style=\"text-align: right;\">\n      <th></th>\n      <th>CustServ Calls</th>\n    </tr>\n    <tr>\n      <th>Churn?</th>\n      <th></th>\n    </tr>\n  </thead>\n  <tbody>\n    <tr>\n      <th>False.</th>\n      <td>1.0</td>\n    </tr>\n    <tr>\n      <th>True.</th>\n      <td>2.0</td>\n    </tr>\n  </tbody>\n</table>\n</div>"
     },
     "execution_count": 10,
     "metadata": {},
     "output_type": "execute_result"
    }
   ],
   "source": [
    "median = data.groupby(\"Churn?\").agg({\"CustServ Calls\" : \"median\"})\n",
    "median"
   ],
   "metadata": {
    "collapsed": false
   }
  },
  {
   "cell_type": "code",
   "execution_count": 13,
   "outputs": [
    {
     "data": {
      "text/plain": "Churn?\nFalse.    1\nTrue.     1\nName: CustServ Calls, dtype: int64"
     },
     "execution_count": 13,
     "metadata": {},
     "output_type": "execute_result"
    }
   ],
   "source": [
    "mode = data.groupby(\"Churn?\")[\"CustServ Calls\"].agg(pd.Series.mode)\n",
    "mode"
   ],
   "metadata": {
    "collapsed": false
   }
  },
  {
   "cell_type": "code",
   "execution_count": 14,
   "outputs": [
    {
     "data": {
      "text/plain": "        CustServ Calls\nChurn?                \nFalse.        1.354624\nTrue.         3.434628",
      "text/html": "<div>\n<style scoped>\n    .dataframe tbody tr th:only-of-type {\n        vertical-align: middle;\n    }\n\n    .dataframe tbody tr th {\n        vertical-align: top;\n    }\n\n    .dataframe thead th {\n        text-align: right;\n    }\n</style>\n<table border=\"1\" class=\"dataframe\">\n  <thead>\n    <tr style=\"text-align: right;\">\n      <th></th>\n      <th>CustServ Calls</th>\n    </tr>\n    <tr>\n      <th>Churn?</th>\n      <th></th>\n    </tr>\n  </thead>\n  <tbody>\n    <tr>\n      <th>False.</th>\n      <td>1.354624</td>\n    </tr>\n    <tr>\n      <th>True.</th>\n      <td>3.434628</td>\n    </tr>\n  </tbody>\n</table>\n</div>"
     },
     "execution_count": 14,
     "metadata": {},
     "output_type": "execute_result"
    }
   ],
   "source": [
    "variance = data.groupby(\"Churn?\").agg({\"CustServ Calls\" : \"var\"})\n",
    "variance"
   ],
   "metadata": {
    "collapsed": false
   }
  },
  {
   "cell_type": "code",
   "execution_count": 18,
   "outputs": [
    {
     "data": {
      "text/plain": "          Day Mins\nChurn?            \nFalse.  175.175754\nTrue.   206.914079",
      "text/html": "<div>\n<style scoped>\n    .dataframe tbody tr th:only-of-type {\n        vertical-align: middle;\n    }\n\n    .dataframe tbody tr th {\n        vertical-align: top;\n    }\n\n    .dataframe thead th {\n        text-align: right;\n    }\n</style>\n<table border=\"1\" class=\"dataframe\">\n  <thead>\n    <tr style=\"text-align: right;\">\n      <th></th>\n      <th>Day Mins</th>\n    </tr>\n    <tr>\n      <th>Churn?</th>\n      <th></th>\n    </tr>\n  </thead>\n  <tbody>\n    <tr>\n      <th>False.</th>\n      <td>175.175754</td>\n    </tr>\n    <tr>\n      <th>True.</th>\n      <td>206.914079</td>\n    </tr>\n  </tbody>\n</table>\n</div>"
     },
     "execution_count": 18,
     "metadata": {},
     "output_type": "execute_result"
    }
   ],
   "source": [
    "mean = data.groupby(\"Churn?\").agg({\"Day Mins\" : \"mean\"})\n",
    "mean"
   ],
   "metadata": {
    "collapsed": false
   }
  },
  {
   "cell_type": "code",
   "execution_count": 19,
   "outputs": [
    {
     "data": {
      "text/plain": "         Day Calls\nChurn?            \nFalse.  100.283158\nTrue.   101.335404",
      "text/html": "<div>\n<style scoped>\n    .dataframe tbody tr th:only-of-type {\n        vertical-align: middle;\n    }\n\n    .dataframe tbody tr th {\n        vertical-align: top;\n    }\n\n    .dataframe thead th {\n        text-align: right;\n    }\n</style>\n<table border=\"1\" class=\"dataframe\">\n  <thead>\n    <tr style=\"text-align: right;\">\n      <th></th>\n      <th>Day Calls</th>\n    </tr>\n    <tr>\n      <th>Churn?</th>\n      <th></th>\n    </tr>\n  </thead>\n  <tbody>\n    <tr>\n      <th>False.</th>\n      <td>100.283158</td>\n    </tr>\n    <tr>\n      <th>True.</th>\n      <td>101.335404</td>\n    </tr>\n  </tbody>\n</table>\n</div>"
     },
     "execution_count": 19,
     "metadata": {},
     "output_type": "execute_result"
    }
   ],
   "source": [
    "mean = data.groupby(\"Churn?\").agg({\"Day Calls\" : \"mean\"})\n",
    "mean"
   ],
   "metadata": {
    "collapsed": false
   }
  },
  {
   "cell_type": "code",
   "execution_count": 20,
   "outputs": [
    {
     "data": {
      "text/plain": "        Day Charge\nChurn?            \nFalse.   29.780421\nTrue.    35.175921",
      "text/html": "<div>\n<style scoped>\n    .dataframe tbody tr th:only-of-type {\n        vertical-align: middle;\n    }\n\n    .dataframe tbody tr th {\n        vertical-align: top;\n    }\n\n    .dataframe thead th {\n        text-align: right;\n    }\n</style>\n<table border=\"1\" class=\"dataframe\">\n  <thead>\n    <tr style=\"text-align: right;\">\n      <th></th>\n      <th>Day Charge</th>\n    </tr>\n    <tr>\n      <th>Churn?</th>\n      <th></th>\n    </tr>\n  </thead>\n  <tbody>\n    <tr>\n      <th>False.</th>\n      <td>29.780421</td>\n    </tr>\n    <tr>\n      <th>True.</th>\n      <td>35.175921</td>\n    </tr>\n  </tbody>\n</table>\n</div>"
     },
     "execution_count": 20,
     "metadata": {},
     "output_type": "execute_result"
    }
   ],
   "source": [
    "mean = data.groupby(\"Churn?\").agg({\"Day Charge\" : \"mean\"})\n",
    "mean"
   ],
   "metadata": {
    "collapsed": false
   }
  },
  {
   "cell_type": "code",
   "execution_count": 21,
   "outputs": [
    {
     "data": {
      "text/plain": "          Eve Mins\nChurn?            \nFalse.  199.043298\nTrue.   212.410145",
      "text/html": "<div>\n<style scoped>\n    .dataframe tbody tr th:only-of-type {\n        vertical-align: middle;\n    }\n\n    .dataframe tbody tr th {\n        vertical-align: top;\n    }\n\n    .dataframe thead th {\n        text-align: right;\n    }\n</style>\n<table border=\"1\" class=\"dataframe\">\n  <thead>\n    <tr style=\"text-align: right;\">\n      <th></th>\n      <th>Eve Mins</th>\n    </tr>\n    <tr>\n      <th>Churn?</th>\n      <th></th>\n    </tr>\n  </thead>\n  <tbody>\n    <tr>\n      <th>False.</th>\n      <td>199.043298</td>\n    </tr>\n    <tr>\n      <th>True.</th>\n      <td>212.410145</td>\n    </tr>\n  </tbody>\n</table>\n</div>"
     },
     "execution_count": 21,
     "metadata": {},
     "output_type": "execute_result"
    }
   ],
   "source": [
    "mean = data.groupby(\"Churn?\").agg({\"Eve Mins\" : \"mean\"})\n",
    "mean"
   ],
   "metadata": {
    "collapsed": false
   }
  },
  {
   "cell_type": "code",
   "execution_count": 22,
   "outputs": [
    {
     "data": {
      "text/plain": "         Eve Calls\nChurn?            \nFalse.  100.038596\nTrue.   100.561077",
      "text/html": "<div>\n<style scoped>\n    .dataframe tbody tr th:only-of-type {\n        vertical-align: middle;\n    }\n\n    .dataframe tbody tr th {\n        vertical-align: top;\n    }\n\n    .dataframe thead th {\n        text-align: right;\n    }\n</style>\n<table border=\"1\" class=\"dataframe\">\n  <thead>\n    <tr style=\"text-align: right;\">\n      <th></th>\n      <th>Eve Calls</th>\n    </tr>\n    <tr>\n      <th>Churn?</th>\n      <th></th>\n    </tr>\n  </thead>\n  <tbody>\n    <tr>\n      <th>False.</th>\n      <td>100.038596</td>\n    </tr>\n    <tr>\n      <th>True.</th>\n      <td>100.561077</td>\n    </tr>\n  </tbody>\n</table>\n</div>"
     },
     "execution_count": 22,
     "metadata": {},
     "output_type": "execute_result"
    }
   ],
   "source": [
    "mean = data.groupby(\"Churn?\").agg({\"Eve Calls\" : \"mean\"})\n",
    "mean"
   ],
   "metadata": {
    "collapsed": false
   }
  },
  {
   "cell_type": "code",
   "execution_count": 23,
   "outputs": [
    {
     "data": {
      "text/plain": "        Eve Charge\nChurn?            \nFalse.   16.918909\nTrue.    18.054969",
      "text/html": "<div>\n<style scoped>\n    .dataframe tbody tr th:only-of-type {\n        vertical-align: middle;\n    }\n\n    .dataframe tbody tr th {\n        vertical-align: top;\n    }\n\n    .dataframe thead th {\n        text-align: right;\n    }\n</style>\n<table border=\"1\" class=\"dataframe\">\n  <thead>\n    <tr style=\"text-align: right;\">\n      <th></th>\n      <th>Eve Charge</th>\n    </tr>\n    <tr>\n      <th>Churn?</th>\n      <th></th>\n    </tr>\n  </thead>\n  <tbody>\n    <tr>\n      <th>False.</th>\n      <td>16.918909</td>\n    </tr>\n    <tr>\n      <th>True.</th>\n      <td>18.054969</td>\n    </tr>\n  </tbody>\n</table>\n</div>"
     },
     "execution_count": 23,
     "metadata": {},
     "output_type": "execute_result"
    }
   ],
   "source": [
    "mean = data.groupby(\"Churn?\").agg({\"Eve Charge\" : \"mean\"})\n",
    "mean"
   ],
   "metadata": {
    "collapsed": false
   }
  },
  {
   "cell_type": "code",
   "execution_count": 25,
   "outputs": [
    {
     "data": {
      "text/plain": "        Night Mins\nChurn?            \nFalse.  200.133193\nTrue.   205.231677",
      "text/html": "<div>\n<style scoped>\n    .dataframe tbody tr th:only-of-type {\n        vertical-align: middle;\n    }\n\n    .dataframe tbody tr th {\n        vertical-align: top;\n    }\n\n    .dataframe thead th {\n        text-align: right;\n    }\n</style>\n<table border=\"1\" class=\"dataframe\">\n  <thead>\n    <tr style=\"text-align: right;\">\n      <th></th>\n      <th>Night Mins</th>\n    </tr>\n    <tr>\n      <th>Churn?</th>\n      <th></th>\n    </tr>\n  </thead>\n  <tbody>\n    <tr>\n      <th>False.</th>\n      <td>200.133193</td>\n    </tr>\n    <tr>\n      <th>True.</th>\n      <td>205.231677</td>\n    </tr>\n  </tbody>\n</table>\n</div>"
     },
     "execution_count": 25,
     "metadata": {},
     "output_type": "execute_result"
    }
   ],
   "source": [
    "mean = data.groupby(\"Churn?\").agg({\"Night Mins\" : \"mean\"})\n",
    "mean"
   ],
   "metadata": {
    "collapsed": false
   }
  },
  {
   "cell_type": "code",
   "execution_count": 26,
   "outputs": [
    {
     "data": {
      "text/plain": "        Night Calls\nChurn?             \nFalse.   100.058246\nTrue.    100.399586",
      "text/html": "<div>\n<style scoped>\n    .dataframe tbody tr th:only-of-type {\n        vertical-align: middle;\n    }\n\n    .dataframe tbody tr th {\n        vertical-align: top;\n    }\n\n    .dataframe thead th {\n        text-align: right;\n    }\n</style>\n<table border=\"1\" class=\"dataframe\">\n  <thead>\n    <tr style=\"text-align: right;\">\n      <th></th>\n      <th>Night Calls</th>\n    </tr>\n    <tr>\n      <th>Churn?</th>\n      <th></th>\n    </tr>\n  </thead>\n  <tbody>\n    <tr>\n      <th>False.</th>\n      <td>100.058246</td>\n    </tr>\n    <tr>\n      <th>True.</th>\n      <td>100.399586</td>\n    </tr>\n  </tbody>\n</table>\n</div>"
     },
     "execution_count": 26,
     "metadata": {},
     "output_type": "execute_result"
    }
   ],
   "source": [
    "mean = data.groupby(\"Churn?\").agg({\"Night Calls\" : \"mean\"})\n",
    "mean"
   ],
   "metadata": {
    "collapsed": false
   }
  },
  {
   "cell_type": "code",
   "execution_count": 27,
   "outputs": [
    {
     "data": {
      "text/plain": "        Night Charge\nChurn?              \nFalse.      9.006074\nTrue.       9.235528",
      "text/html": "<div>\n<style scoped>\n    .dataframe tbody tr th:only-of-type {\n        vertical-align: middle;\n    }\n\n    .dataframe tbody tr th {\n        vertical-align: top;\n    }\n\n    .dataframe thead th {\n        text-align: right;\n    }\n</style>\n<table border=\"1\" class=\"dataframe\">\n  <thead>\n    <tr style=\"text-align: right;\">\n      <th></th>\n      <th>Night Charge</th>\n    </tr>\n    <tr>\n      <th>Churn?</th>\n      <th></th>\n    </tr>\n  </thead>\n  <tbody>\n    <tr>\n      <th>False.</th>\n      <td>9.006074</td>\n    </tr>\n    <tr>\n      <th>True.</th>\n      <td>9.235528</td>\n    </tr>\n  </tbody>\n</table>\n</div>"
     },
     "execution_count": 27,
     "metadata": {},
     "output_type": "execute_result"
    }
   ],
   "source": [
    "mean = data.groupby(\"Churn?\").agg({\"Night Charge\" : \"mean\"})\n",
    "mean"
   ],
   "metadata": {
    "collapsed": false
   }
  },
  {
   "cell_type": "code",
   "execution_count": 30,
   "outputs": [
    {
     "data": {
      "text/plain": "        Intl Mins\nChurn?           \nFalse.  10.158877\nTrue.   10.700000",
      "text/html": "<div>\n<style scoped>\n    .dataframe tbody tr th:only-of-type {\n        vertical-align: middle;\n    }\n\n    .dataframe tbody tr th {\n        vertical-align: top;\n    }\n\n    .dataframe thead th {\n        text-align: right;\n    }\n</style>\n<table border=\"1\" class=\"dataframe\">\n  <thead>\n    <tr style=\"text-align: right;\">\n      <th></th>\n      <th>Intl Mins</th>\n    </tr>\n    <tr>\n      <th>Churn?</th>\n      <th></th>\n    </tr>\n  </thead>\n  <tbody>\n    <tr>\n      <th>False.</th>\n      <td>10.158877</td>\n    </tr>\n    <tr>\n      <th>True.</th>\n      <td>10.700000</td>\n    </tr>\n  </tbody>\n</table>\n</div>"
     },
     "execution_count": 30,
     "metadata": {},
     "output_type": "execute_result"
    }
   ],
   "source": [
    "mean = data.groupby(\"Churn?\").agg({\"Intl Mins\" : \"mean\"})\n",
    "mean"
   ],
   "metadata": {
    "collapsed": false
   }
  },
  {
   "cell_type": "code",
   "execution_count": 31,
   "outputs": [
    {
     "data": {
      "text/plain": "        Intl Calls\nChurn?            \nFalse.    4.532982\nTrue.     4.163561",
      "text/html": "<div>\n<style scoped>\n    .dataframe tbody tr th:only-of-type {\n        vertical-align: middle;\n    }\n\n    .dataframe tbody tr th {\n        vertical-align: top;\n    }\n\n    .dataframe thead th {\n        text-align: right;\n    }\n</style>\n<table border=\"1\" class=\"dataframe\">\n  <thead>\n    <tr style=\"text-align: right;\">\n      <th></th>\n      <th>Intl Calls</th>\n    </tr>\n    <tr>\n      <th>Churn?</th>\n      <th></th>\n    </tr>\n  </thead>\n  <tbody>\n    <tr>\n      <th>False.</th>\n      <td>4.532982</td>\n    </tr>\n    <tr>\n      <th>True.</th>\n      <td>4.163561</td>\n    </tr>\n  </tbody>\n</table>\n</div>"
     },
     "execution_count": 31,
     "metadata": {},
     "output_type": "execute_result"
    }
   ],
   "source": [
    "mean = data.groupby(\"Churn?\").agg({\"Intl Calls\" : \"mean\"})\n",
    "mean"
   ],
   "metadata": {
    "collapsed": false
   }
  },
  {
   "cell_type": "code",
   "execution_count": 32,
   "outputs": [
    {
     "data": {
      "text/plain": "        Intl Charge\nChurn?             \nFalse.     2.743404\nTrue.      2.889545",
      "text/html": "<div>\n<style scoped>\n    .dataframe tbody tr th:only-of-type {\n        vertical-align: middle;\n    }\n\n    .dataframe tbody tr th {\n        vertical-align: top;\n    }\n\n    .dataframe thead th {\n        text-align: right;\n    }\n</style>\n<table border=\"1\" class=\"dataframe\">\n  <thead>\n    <tr style=\"text-align: right;\">\n      <th></th>\n      <th>Intl Charge</th>\n    </tr>\n    <tr>\n      <th>Churn?</th>\n      <th></th>\n    </tr>\n  </thead>\n  <tbody>\n    <tr>\n      <th>False.</th>\n      <td>2.743404</td>\n    </tr>\n    <tr>\n      <th>True.</th>\n      <td>2.889545</td>\n    </tr>\n  </tbody>\n</table>\n</div>"
     },
     "execution_count": 32,
     "metadata": {},
     "output_type": "execute_result"
    }
   ],
   "source": [
    "mean = data.groupby(\"Churn?\").agg({\"Intl Charge\" : \"mean\"})\n",
    "mean"
   ],
   "metadata": {
    "collapsed": false
   }
  },
  {
   "cell_type": "code",
   "execution_count": null,
   "outputs": [],
   "source": [],
   "metadata": {
    "collapsed": false
   }
  }
 ],
 "metadata": {
  "kernelspec": {
   "display_name": "Python 3",
   "language": "python",
   "name": "python3"
  },
  "language_info": {
   "codemirror_mode": {
    "name": "ipython",
    "version": 2
   },
   "file_extension": ".py",
   "mimetype": "text/x-python",
   "name": "python",
   "nbconvert_exporter": "python",
   "pygments_lexer": "ipython2",
   "version": "2.7.6"
  }
 },
 "nbformat": 4,
 "nbformat_minor": 0
}
