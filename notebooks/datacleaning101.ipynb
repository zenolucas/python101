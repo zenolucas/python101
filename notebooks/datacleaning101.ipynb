{
 "cells": [
  {
   "cell_type": "code",
   "execution_count": 1,
   "metadata": {
    "collapsed": true
   },
   "outputs": [],
   "source": [
    "import pandas as pd"
   ]
  },
  {
   "cell_type": "code",
   "execution_count": 8,
   "outputs": [
    {
     "data": {
      "text/plain": "      report_number                                              title  \\\n0               637  Report 637: Campers' encounter just after dark...   \n1              2917  Report 2917: Family observes large biped from car   \n2              7963  Report 7963: Sasquatch walks past window of ho...   \n3              9317  Report 9317: Driver on Alcan Highway has noon,...   \n4             13038  Report 13038: Snowmobiler has encounter in dee...   \n...             ...                                                ...   \n4051           4159  Report 4159: Campers hear unusual grunting sou...   \n4052            175  Report 175: Campers encounter large animal nea...   \n4053            945    Report 945: Creature with red glowing eyes seen   \n4054           1387  Report 1387: Father and son hear heavy footste...   \n4055           3044  Report 3044: Second-hand report of creature lo...   \n\n     classification           timestamp  year  day  month   season  \\\n0           Class A  2000-06-16 0:00:00  2000   16      6   Summer   \n1           Class A  1995-05-15 0:00:00  1995   15      5   Spring   \n2           Class A  2004-02-09 0:00:00  2004    9      2   Winter   \n3           Class A  2004-06-18 0:00:00  2004   18      6   Summer   \n4           Class A  2004-02-15 0:00:00  2004   15      2   Winter   \n...             ...                 ...   ...  ...    ...      ...   \n4051        Class C  1995-11-15 0:00:00  1995   15     11     Fall   \n4052        Class C  2000-07-30 0:00:00  2000   30      7   Summer   \n4053        Class C  1999-03-19 0:00:00  1999   19      3   Spring   \n4054        Class C  1983-08-17 0:00:00  1983   17      8   Summer   \n4055        Class C  1975-09-10 0:00:00  1975   10      9  Unknown   \n\n           state                      county  ... moon_phase precip_intensity  \\\n0         Alaska     Cordova-McCarthy County  ...       0.49            0.000   \n1         Alaska      Prince of Wales County  ...       0.54            0.000   \n2         Alaska      Prince of Wales County  ...       0.62            0.033   \n3         Alaska  Southeast Fairbanks County  ...       0.03            0.000   \n4         Alaska            Anchorage County  ...       0.84            0.000   \n...          ...                         ...  ...        ...              ...   \n4051       Texas              Trinity County  ...       0.76            0.000   \n4052  Washington             Kittitas County  ...       0.99            0.000   \n4053  Washington            Jefferson County  ...       0.08            0.000   \n4054  Washington                 King County  ...       0.32            0.000   \n4055   Wisconsin            La Crosse County  ...       0.18            0.000   \n\n     precip_probability precip_type pressure uv_index visibility wind_bearing  \\\n0                   0.0        rain  1017.00        4       9.50          188   \n1                   0.0        rain  1017.00        5       9.50          170   \n2                   1.0        rain  1025.88        1       6.29          138   \n3                   0.0     unknown  1024.32        6      10.00          307   \n4                   0.0     unknown  1009.17        1       9.77           80   \n...                 ...         ...      ...      ...        ...          ...   \n4051                0.0        rain  1020.63        4      10.00          249   \n4052                0.0     unknown  1017.60        9      10.00          229   \n4053                0.0     unknown  1017.18        5      10.00           47   \n4054                0.0     unknown  1016.33        8      10.00          358   \n4055                0.0        rain  1015.36        5       7.50          177   \n\n     wind_speed                                            summary  \n0          4.05                       Overcast throughout the day.  \n1          4.36                       Overcast throughout the day.  \n2         17.42  Rain in the morning and afternoon and breezy i...  \n3          2.72                     Partly cloudy until afternoon.  \n4          0.17  Partly cloudy starting in the afternoon, conti...  \n...         ...                                                ...  \n4051       3.46                          Clear throughout the day.  \n4052       8.78                          Clear throughout the day.  \n4053       7.27                          Clear throughout the day.  \n4054       6.08             Partly cloudy starting in the evening.  \n4055      10.24  Mostly cloudy throughout the day and breezy in...  \n\n[4056 rows x 38 columns]",
      "text/html": "<div>\n<style scoped>\n    .dataframe tbody tr th:only-of-type {\n        vertical-align: middle;\n    }\n\n    .dataframe tbody tr th {\n        vertical-align: top;\n    }\n\n    .dataframe thead th {\n        text-align: right;\n    }\n</style>\n<table border=\"1\" class=\"dataframe\">\n  <thead>\n    <tr style=\"text-align: right;\">\n      <th></th>\n      <th>report_number</th>\n      <th>title</th>\n      <th>classification</th>\n      <th>timestamp</th>\n      <th>year</th>\n      <th>day</th>\n      <th>month</th>\n      <th>season</th>\n      <th>state</th>\n      <th>county</th>\n      <th>...</th>\n      <th>moon_phase</th>\n      <th>precip_intensity</th>\n      <th>precip_probability</th>\n      <th>precip_type</th>\n      <th>pressure</th>\n      <th>uv_index</th>\n      <th>visibility</th>\n      <th>wind_bearing</th>\n      <th>wind_speed</th>\n      <th>summary</th>\n    </tr>\n  </thead>\n  <tbody>\n    <tr>\n      <th>0</th>\n      <td>637</td>\n      <td>Report 637: Campers' encounter just after dark...</td>\n      <td>Class A</td>\n      <td>2000-06-16 0:00:00</td>\n      <td>2000</td>\n      <td>16</td>\n      <td>6</td>\n      <td>Summer</td>\n      <td>Alaska</td>\n      <td>Cordova-McCarthy County</td>\n      <td>...</td>\n      <td>0.49</td>\n      <td>0.000</td>\n      <td>0.0</td>\n      <td>rain</td>\n      <td>1017.00</td>\n      <td>4</td>\n      <td>9.50</td>\n      <td>188</td>\n      <td>4.05</td>\n      <td>Overcast throughout the day.</td>\n    </tr>\n    <tr>\n      <th>1</th>\n      <td>2917</td>\n      <td>Report 2917: Family observes large biped from car</td>\n      <td>Class A</td>\n      <td>1995-05-15 0:00:00</td>\n      <td>1995</td>\n      <td>15</td>\n      <td>5</td>\n      <td>Spring</td>\n      <td>Alaska</td>\n      <td>Prince of Wales County</td>\n      <td>...</td>\n      <td>0.54</td>\n      <td>0.000</td>\n      <td>0.0</td>\n      <td>rain</td>\n      <td>1017.00</td>\n      <td>5</td>\n      <td>9.50</td>\n      <td>170</td>\n      <td>4.36</td>\n      <td>Overcast throughout the day.</td>\n    </tr>\n    <tr>\n      <th>2</th>\n      <td>7963</td>\n      <td>Report 7963: Sasquatch walks past window of ho...</td>\n      <td>Class A</td>\n      <td>2004-02-09 0:00:00</td>\n      <td>2004</td>\n      <td>9</td>\n      <td>2</td>\n      <td>Winter</td>\n      <td>Alaska</td>\n      <td>Prince of Wales County</td>\n      <td>...</td>\n      <td>0.62</td>\n      <td>0.033</td>\n      <td>1.0</td>\n      <td>rain</td>\n      <td>1025.88</td>\n      <td>1</td>\n      <td>6.29</td>\n      <td>138</td>\n      <td>17.42</td>\n      <td>Rain in the morning and afternoon and breezy i...</td>\n    </tr>\n    <tr>\n      <th>3</th>\n      <td>9317</td>\n      <td>Report 9317: Driver on Alcan Highway has noon,...</td>\n      <td>Class A</td>\n      <td>2004-06-18 0:00:00</td>\n      <td>2004</td>\n      <td>18</td>\n      <td>6</td>\n      <td>Summer</td>\n      <td>Alaska</td>\n      <td>Southeast Fairbanks County</td>\n      <td>...</td>\n      <td>0.03</td>\n      <td>0.000</td>\n      <td>0.0</td>\n      <td>unknown</td>\n      <td>1024.32</td>\n      <td>6</td>\n      <td>10.00</td>\n      <td>307</td>\n      <td>2.72</td>\n      <td>Partly cloudy until afternoon.</td>\n    </tr>\n    <tr>\n      <th>4</th>\n      <td>13038</td>\n      <td>Report 13038: Snowmobiler has encounter in dee...</td>\n      <td>Class A</td>\n      <td>2004-02-15 0:00:00</td>\n      <td>2004</td>\n      <td>15</td>\n      <td>2</td>\n      <td>Winter</td>\n      <td>Alaska</td>\n      <td>Anchorage County</td>\n      <td>...</td>\n      <td>0.84</td>\n      <td>0.000</td>\n      <td>0.0</td>\n      <td>unknown</td>\n      <td>1009.17</td>\n      <td>1</td>\n      <td>9.77</td>\n      <td>80</td>\n      <td>0.17</td>\n      <td>Partly cloudy starting in the afternoon, conti...</td>\n    </tr>\n    <tr>\n      <th>...</th>\n      <td>...</td>\n      <td>...</td>\n      <td>...</td>\n      <td>...</td>\n      <td>...</td>\n      <td>...</td>\n      <td>...</td>\n      <td>...</td>\n      <td>...</td>\n      <td>...</td>\n      <td>...</td>\n      <td>...</td>\n      <td>...</td>\n      <td>...</td>\n      <td>...</td>\n      <td>...</td>\n      <td>...</td>\n      <td>...</td>\n      <td>...</td>\n      <td>...</td>\n      <td>...</td>\n    </tr>\n    <tr>\n      <th>4051</th>\n      <td>4159</td>\n      <td>Report 4159: Campers hear unusual grunting sou...</td>\n      <td>Class C</td>\n      <td>1995-11-15 0:00:00</td>\n      <td>1995</td>\n      <td>15</td>\n      <td>11</td>\n      <td>Fall</td>\n      <td>Texas</td>\n      <td>Trinity County</td>\n      <td>...</td>\n      <td>0.76</td>\n      <td>0.000</td>\n      <td>0.0</td>\n      <td>rain</td>\n      <td>1020.63</td>\n      <td>4</td>\n      <td>10.00</td>\n      <td>249</td>\n      <td>3.46</td>\n      <td>Clear throughout the day.</td>\n    </tr>\n    <tr>\n      <th>4052</th>\n      <td>175</td>\n      <td>Report 175: Campers encounter large animal nea...</td>\n      <td>Class C</td>\n      <td>2000-07-30 0:00:00</td>\n      <td>2000</td>\n      <td>30</td>\n      <td>7</td>\n      <td>Summer</td>\n      <td>Washington</td>\n      <td>Kittitas County</td>\n      <td>...</td>\n      <td>0.99</td>\n      <td>0.000</td>\n      <td>0.0</td>\n      <td>unknown</td>\n      <td>1017.60</td>\n      <td>9</td>\n      <td>10.00</td>\n      <td>229</td>\n      <td>8.78</td>\n      <td>Clear throughout the day.</td>\n    </tr>\n    <tr>\n      <th>4053</th>\n      <td>945</td>\n      <td>Report 945: Creature with red glowing eyes seen</td>\n      <td>Class C</td>\n      <td>1999-03-19 0:00:00</td>\n      <td>1999</td>\n      <td>19</td>\n      <td>3</td>\n      <td>Spring</td>\n      <td>Washington</td>\n      <td>Jefferson County</td>\n      <td>...</td>\n      <td>0.08</td>\n      <td>0.000</td>\n      <td>0.0</td>\n      <td>unknown</td>\n      <td>1017.18</td>\n      <td>5</td>\n      <td>10.00</td>\n      <td>47</td>\n      <td>7.27</td>\n      <td>Clear throughout the day.</td>\n    </tr>\n    <tr>\n      <th>4054</th>\n      <td>1387</td>\n      <td>Report 1387: Father and son hear heavy footste...</td>\n      <td>Class C</td>\n      <td>1983-08-17 0:00:00</td>\n      <td>1983</td>\n      <td>17</td>\n      <td>8</td>\n      <td>Summer</td>\n      <td>Washington</td>\n      <td>King County</td>\n      <td>...</td>\n      <td>0.32</td>\n      <td>0.000</td>\n      <td>0.0</td>\n      <td>unknown</td>\n      <td>1016.33</td>\n      <td>8</td>\n      <td>10.00</td>\n      <td>358</td>\n      <td>6.08</td>\n      <td>Partly cloudy starting in the evening.</td>\n    </tr>\n    <tr>\n      <th>4055</th>\n      <td>3044</td>\n      <td>Report 3044: Second-hand report of creature lo...</td>\n      <td>Class C</td>\n      <td>1975-09-10 0:00:00</td>\n      <td>1975</td>\n      <td>10</td>\n      <td>9</td>\n      <td>Unknown</td>\n      <td>Wisconsin</td>\n      <td>La Crosse County</td>\n      <td>...</td>\n      <td>0.18</td>\n      <td>0.000</td>\n      <td>0.0</td>\n      <td>rain</td>\n      <td>1015.36</td>\n      <td>5</td>\n      <td>7.50</td>\n      <td>177</td>\n      <td>10.24</td>\n      <td>Mostly cloudy throughout the day and breezy in...</td>\n    </tr>\n  </tbody>\n</table>\n<p>4056 rows × 38 columns</p>\n</div>"
     },
     "execution_count": 8,
     "metadata": {},
     "output_type": "execute_result"
    }
   ],
   "source": [
    "df = pd.read_csv(\"data/rawdata.csv\")\n",
    "df"
   ],
   "metadata": {
    "collapsed": false
   }
  },
  {
   "cell_type": "code",
   "execution_count": 6,
   "outputs": [
    {
     "data": {
      "text/plain": "3482    Class B\n3483    Class B\n3484    Class B\n3485    Class B\n3486    Class B\n         ...   \n3588    Class B\n3589    Class B\n3590    Class B\n3591    Class B\n3592    Class B\nName: classification, Length: 111, dtype: object"
     },
     "execution_count": 6,
     "metadata": {},
     "output_type": "execute_result"
    }
   ],
   "source": [
    "df.loc[3482:3592, \"classification\"]"
   ],
   "metadata": {
    "collapsed": false
   }
  },
  {
   "cell_type": "code",
   "execution_count": 19,
   "outputs": [
    {
     "data": {
      "text/plain": "Empty DataFrame\nColumns: [report_number, title, classification, timestamp, year, day, month, season, state, county, nearest_town, nearest_road, observed, also_noticed, other_witnesses, other_stories, time_and_conditions, environment, location_details, latitude, longitude, geohash, temperature_high, temperature_mid, temperature_low, dew_point, humidity, cloud_cover, moon_phase, precip_intensity, precip_probability, precip_type, pressure, uv_index, visibility, wind_bearing, wind_speed, summary]\nIndex: []\n\n[0 rows x 38 columns]",
      "text/html": "<div>\n<style scoped>\n    .dataframe tbody tr th:only-of-type {\n        vertical-align: middle;\n    }\n\n    .dataframe tbody tr th {\n        vertical-align: top;\n    }\n\n    .dataframe thead th {\n        text-align: right;\n    }\n</style>\n<table border=\"1\" class=\"dataframe\">\n  <thead>\n    <tr style=\"text-align: right;\">\n      <th></th>\n      <th>report_number</th>\n      <th>title</th>\n      <th>classification</th>\n      <th>timestamp</th>\n      <th>year</th>\n      <th>day</th>\n      <th>month</th>\n      <th>season</th>\n      <th>state</th>\n      <th>county</th>\n      <th>...</th>\n      <th>moon_phase</th>\n      <th>precip_intensity</th>\n      <th>precip_probability</th>\n      <th>precip_type</th>\n      <th>pressure</th>\n      <th>uv_index</th>\n      <th>visibility</th>\n      <th>wind_bearing</th>\n      <th>wind_speed</th>\n      <th>summary</th>\n    </tr>\n  </thead>\n  <tbody>\n  </tbody>\n</table>\n<p>0 rows × 38 columns</p>\n</div>"
     },
     "execution_count": 19,
     "metadata": {},
     "output_type": "execute_result"
    }
   ],
   "source": [
    "duplicated = df[\"title\"].duplicated()\n",
    "df.loc[duplicated]\n"
   ],
   "metadata": {
    "collapsed": false
   }
  },
  {
   "cell_type": "code",
   "execution_count": 23,
   "outputs": [
    {
     "data": {
      "text/plain": "array(['Alaska', 'Alabama', 'Arkansas', 'Arizona', 'California',\n       'Colorado', 'Connecticut', 'Florida', 'Georgia', 'Iowa', 'Idaho',\n       'Illinois', 'Indiana', 'Kansas', 'Kentucky', 'Louisiana',\n       'Massachusetts', 'Maryland', 'Maine', 'Michigan', 'Minnesota',\n       'Missouri', 'Mississippi', 'Montana', 'North Carolina',\n       'North Dakota', 'Nebraska', 'New Hampshire', 'New Jersey',\n       'New Mexico', 'Nevada', 'New York', 'Ohio', 'Oklahoma', 'Oregon',\n       'Pennsylvania', 'Rhode Island', 'South Carolina', 'South Dakota',\n       'Tennessee', 'Texas', 'Utah', 'Virginia', 'Vermont', 'Washington',\n       'Wisconsin', 'West Virginia', 'Wyoming', 'Delaware'], dtype=object)"
     },
     "execution_count": 23,
     "metadata": {},
     "output_type": "execute_result"
    }
   ],
   "source": [
    "df[\"state\"].unique()"
   ],
   "metadata": {
    "collapsed": false
   }
  },
  {
   "cell_type": "code",
   "execution_count": null,
   "outputs": [],
   "source": [],
   "metadata": {
    "collapsed": false
   }
  }
 ],
 "metadata": {
  "kernelspec": {
   "display_name": "Python 3",
   "language": "python",
   "name": "python3"
  },
  "language_info": {
   "codemirror_mode": {
    "name": "ipython",
    "version": 2
   },
   "file_extension": ".py",
   "mimetype": "text/x-python",
   "name": "python",
   "nbconvert_exporter": "python",
   "pygments_lexer": "ipython2",
   "version": "2.7.6"
  }
 },
 "nbformat": 4,
 "nbformat_minor": 0
}
